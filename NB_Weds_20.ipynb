{
  "nbformat": 4,
  "nbformat_minor": 0,
  "metadata": {
    "colab": {
      "name": "NB_Weds_20.ipynb",
      "provenance": [],
      "authorship_tag": "ABX9TyNxNhiQ6lyc6w/vFLiCF33e",
      "include_colab_link": true
    },
    "kernelspec": {
      "name": "python3",
      "display_name": "Python 3"
    },
    "language_info": {
      "name": "python"
    }
  },
  "cells": [
    {
      "cell_type": "markdown",
      "metadata": {
        "id": "view-in-github",
        "colab_type": "text"
      },
      "source": [
        "<a href=\"https://colab.research.google.com/github/megantennies/AIF360/blob/master/NB_Weds_20.ipynb\" target=\"_parent\"><img src=\"https://colab.research.google.com/assets/colab-badge.svg\" alt=\"Open In Colab\"/></a>"
      ]
    },
    {
      "cell_type": "markdown",
      "source": [
        "## **Advanced Natural Language Engineering (G5114)**\n",
        "\n",
        "Practical Assignment: The Microsoft Research Sentence Completion Challenge"
      ],
      "metadata": {
        "id": "-0fXu6otnyRc"
      }
    },
    {
      "cell_type": "markdown",
      "source": [
        "## Data Imports"
      ],
      "metadata": {
        "id": "xQ2J9bLXG7tG"
      }
    },
    {
      "cell_type": "code",
      "source": [
        "import nltk\n",
        "nltk.download('punkt')\n",
        "nltk.download('stopwords')\n",
        "from nltk import word_tokenize as tokenize\n",
        "from nltk.corpus import wordnet as wn\n",
        "from nltk.corpus import wordnet_ic as wn_ic\n",
        "from nltk.corpus import stopwords "
      ],
      "metadata": {
        "colab": {
          "base_uri": "https://localhost:8080/"
        },
        "id": "V-EoW7bDGwkd",
        "outputId": "d227a4aa-0357-4b02-e251-d9c5674a3f1e"
      },
      "execution_count": 81,
      "outputs": [
        {
          "output_type": "stream",
          "name": "stdout",
          "text": [
            "[nltk_data] Downloading package punkt to /root/nltk_data...\n",
            "[nltk_data]   Package punkt is already up-to-date!\n",
            "[nltk_data] Downloading package stopwords to /root/nltk_data...\n",
            "[nltk_data]   Unzipping corpora/stopwords.zip.\n"
          ]
        }
      ]
    },
    {
      "cell_type": "code",
      "source": [
        "import csv, os, random, math, itertools, operator\n",
        "import pandas as pd\n",
        "import seaborn as sns\n",
        "import scipy.stats as stats\n",
        "import numpy as np\n",
        "import matplotlib.pyplot as plt\n",
        "%matplotlib inline\n",
        "import tqdm\n",
        "from tqdm import tqdm\n",
        "from IPython.display import display, Markdown"
      ],
      "metadata": {
        "id": "0y6FOLBGGwqG"
      },
      "execution_count": 106,
      "outputs": []
    },
    {
      "cell_type": "code",
      "source": [
        "import torch\n",
        "import torch.nn as nn\n",
        "import torch.nn.functional as F\n",
        "import torch.optim as optim\n",
        "torch.manual_seed(1)"
      ],
      "metadata": {
        "colab": {
          "base_uri": "https://localhost:8080/"
        },
        "id": "lBkrf0-5xrTd",
        "outputId": "8c43aff5-1e4b-46ca-f563-8e79ea364ba8"
      },
      "execution_count": 88,
      "outputs": [
        {
          "output_type": "execute_result",
          "data": {
            "text/plain": [
              "<torch._C.Generator at 0x7fd461dbfb30>"
            ]
          },
          "metadata": {},
          "execution_count": 88
        }
      ]
    },
    {
      "cell_type": "markdown",
      "source": [
        "## Data Collection"
      ],
      "metadata": {
        "id": "SyHaWZSnHBHh"
      }
    },
    {
      "cell_type": "code",
      "source": [
        "from google.colab import drive\n",
        "drive.mount('/content/drive')"
      ],
      "metadata": {
        "colab": {
          "base_uri": "https://localhost:8080/"
        },
        "id": "C30CHVREG5hD",
        "outputId": "eeb3adbd-bb81-4aba-a83a-8547c1caceed"
      },
      "execution_count": 4,
      "outputs": [
        {
          "output_type": "stream",
          "name": "stdout",
          "text": [
            "Mounted at /content/drive\n"
          ]
        }
      ]
    },
    {
      "cell_type": "code",
      "source": [
        "TRAINING_DIR = '/content/drive/MyDrive/Colab Notebooks/sentence-completion/Holmes_Training_Data'"
      ],
      "metadata": {
        "id": "zJMpmx8tHO5q"
      },
      "execution_count": 5,
      "outputs": []
    },
    {
      "cell_type": "markdown",
      "source": [
        "**Splitting the Sherlock Holmes training files into sets for training and testing** "
      ],
      "metadata": {
        "id": "DOO1U1NmoPdv"
      }
    },
    {
      "cell_type": "code",
      "execution_count": 6,
      "metadata": {
        "id": "ZH7gMs0VGgpF"
      },
      "outputs": [],
      "source": [
        "def get_training_testing(training_dir = TRAINING_DIR, split = 0.5):\n",
        "  filenames = os.listdir(training_dir)\n",
        "  n = len(filenames)\n",
        "  print('There are {} files in the training directory: {}'.format(n, training_dir))\n",
        "  random.shuffle(filenames)\n",
        "  index = int(n * split)\n",
        "  return(filenames[:index], filenames[index:])"
      ]
    },
    {
      "cell_type": "code",
      "source": [
        "trainingfiles, testingfiles = get_training_testing()\n",
        "print('There are {} files for training.'.format(len(trainingfiles)))\n",
        "print('There are {} files for testing.'.format(len(testingfiles)))"
      ],
      "metadata": {
        "colab": {
          "base_uri": "https://localhost:8080/"
        },
        "id": "GhaSR6itHM_W",
        "outputId": "8a78e93d-1a92-4d47-f87a-c354943910b0"
      },
      "execution_count": 9,
      "outputs": [
        {
          "output_type": "stream",
          "name": "stdout",
          "text": [
            "There are 522 files in the training directory: /content/drive/MyDrive/Colab Notebooks/sentence-completion/Holmes_Training_Data\n",
            "There are 261 files for training.\n",
            "There are 261 files for testing.\n"
          ]
        }
      ]
    },
    {
      "cell_type": "markdown",
      "source": [
        "## Higher N-Gram Language Models"
      ],
      "metadata": {
        "id": "N3XNTMaSHncA"
      }
    },
    {
      "cell_type": "markdown",
      "source": [
        "This class creates an N-gram language model, using unigrams, bigrams, or trigrams."
      ],
      "metadata": {
        "id": "j-eHkhDooakq"
      }
    },
    {
      "cell_type": "markdown",
      "source": [
        "**Unigram Model**\n",
        "\n",
        "Given a sequence of words, $ W $, and unigram model will output the probability:\n",
        "\n",
        "$$ P(W) = P(w_{1}) P(w_{2}) ... P(w_{n}) $$\n",
        "\n",
        "Where the individual probabilities $ P(w_{i}) $ can be estimated based on the frequency of words in the training corpus. "
      ],
      "metadata": {
        "id": "4YE7Z6qZotim"
      }
    },
    {
      "cell_type": "markdown",
      "source": [
        "**Bigram Model**\n",
        "\n",
        "Instead, a bigram model will look at the previous word to estimate the next one, so that:\n",
        "\n",
        "$$ P(W) = P(w_{1}) P(w_{2}|w_{1}) P(w_{3}|w_{2})... P(w_{n}|w_{n-1})  $$"
      ],
      "metadata": {
        "id": "jUyHAeV6otkl"
      }
    },
    {
      "cell_type": "markdown",
      "source": [
        "**Trigram Model**\n",
        "\n",
        "As a rule, an N-gram model will look at the previous $ (n-1) $ words to estimate the next one. A trigram model will look at the previous *2* words, so that:\n",
        "\n",
        "$$ P(W) = P(w_{1}) P(w_{2}|w_{1}) P(w_{3}|w_{2}, w_{1})... P(w_{n}|w_{n-1}, w_{n-2})  $$"
      ],
      "metadata": {
        "id": "YkkP2rumoyQF"
      }
    },
    {
      "cell_type": "code",
      "source": [
        "class language_model():\n",
        "  def __init__(self, trainingdir = TRAINING_DIR, files = []):\n",
        "    self.training_dir = trainingdir\n",
        "    self.files = files\n",
        "    self.train()\n",
        "      \n",
        "  def train(self):    \n",
        "    self.unigram = {}\n",
        "    self.bigram = {}\n",
        "    self.trigram = {}\n",
        "    self._processfiles()\n",
        "    self._make_unknowns()\n",
        "    self._discount()\n",
        "    self._convert_to_probs()\n",
        "\n",
        "  def _remove_punct(self, token):\n",
        "    # removing punctuation\n",
        "    punctuation = '.' + ',' + ':' + ';' + '...' + '\"' + '\"' + '-' + '’' + \\\n",
        "      '‘' + '—' + '?' + '!' + '(' + ')'\n",
        "    removal_list = list(punctuation)\n",
        "    if token in removal_list:\n",
        "      token.replace(token, '')\n",
        "\n",
        "  def _remove_stopwords(self, token):\n",
        "  # removing stopwords\n",
        "    stop_words = set(stopwords.words('english'))\n",
        "    removed = []\n",
        "    if token not in stop_words:\n",
        "      tokens = removed.append(token)\n",
        "\n",
        "  # processing each line of each file to create tokens (words)    \n",
        "  def _processline(self, line):\n",
        "    tokens = ['<s>'] + tokenize(line) + ['</s>']\n",
        "    bi_previous = '</s>'\n",
        "    for i, token in enumerate(tokens):\n",
        "      self._remove_punct(token)\n",
        "      self._remove_stopwords(token)\n",
        "      self.unigram[token] = self.unigram.get(token, 0) + 1\n",
        "      bi_current = self.bigram.get(bi_previous, {})\n",
        "      bi_current[token] = bi_current.get(token, 0) + 1\n",
        "      self.bigram[bi_previous] = bi_current\n",
        "      if i >= 1:\n",
        "        bi_previous = tokens[i - 1]\n",
        "      if i >= 2:\n",
        "        tri_previous = tokens[i-2]\n",
        "        tri_current = self.trigram.get(tri_previous, {})\n",
        "        tri_current_ = tri_current.get(bi_previous, {})\n",
        "        tri_current_[token] = tri_current_.get(token, 0) + 1\n",
        "        tri_current[bi_previous] = tri_current_\n",
        "        self.trigram[tri_previous] = tri_current\n",
        "\n",
        "  def _processfiles(self):\n",
        "    for afile in tqdm(self.files):\n",
        "      print('Processing {}'.format(afile))\n",
        "      try:\n",
        "        with open(os.path.join(self.training_dir, afile)) as instream:\n",
        "          for line in instream:\n",
        "            line = line.rstrip()\n",
        "            if len(line) > 0:\n",
        "              self._processline(line)\n",
        "      except UnicodeDecodeError:\n",
        "        print('UnicodeDecodeError processing {}: ignoring rest of file'.format(afile))\n",
        "      \n",
        "  def _convert_to_probs(self):\n",
        "    self.unigram = {k: v/sum(self.unigram.values()) \n",
        "      for (k, v) in self.unigram.items()}\n",
        "    self.bigram = {key: {k: v/sum(adict.values()) \n",
        "      for (k, v) in adict.items()} for (key, adict) in self.bigram.items()}\n",
        "    self.trigram = {key2: {key: {k: v/sum(adict.values()) \n",
        "      for (k, v) in adict.items()} for (key, adict) in dict2.items()} \n",
        "      for (key2, dict2) in self.trigram.items()}\n",
        "    self.kn = {k: v/sum(self.kn.values()) for (k, v) in self.kn.items()}\n",
        "      \n",
        "  def get_prob(self, context, token, methodparams = {}):\n",
        "    if methodparams.get('method', 'unigram') == 'unigram':\n",
        "      return self.unigram.get(token, self.unigram.get('<unk>', 0))\n",
        "    else:\n",
        "      if methodparams.get('smoothing', 'kneser-ney') == 'kneser-ney' and \\\n",
        "        methodparams.get('method', 'bigram') == 'bigram':\n",
        "          unidist = self.kn\n",
        "          token = ''.join(token)\n",
        "          bigram = self.bigram.get(context, self.bigram.get('<unk>', {}))\n",
        "          big_p = bigram.get(token, bigram.get('<unk>', 0))\n",
        "          lmbda = bigram['<disc>']\n",
        "          uni_p = unidist.get(token, unidist.get('<unk>', 0))\n",
        "          p = big_p + lmbda * uni_p\n",
        "          return p\n",
        "      elif methodparams.get('method', 'trigram') == 'trigram' and \\\n",
        "        methodparams.get('smoothing', 'kneser-ney') == 'kneser-ney':\n",
        "          unidist = self.kn\n",
        "          token = ''.join(token)\n",
        "          trigram = self.trigram.get(context, self.trigram.get('<unk>', {}))\n",
        "          tri_p = trigram.get(token, trigram.get('<unk>', 0))\n",
        "          #lmbda = trigram['<disc>']\n",
        "          #big_p = unidist.get(token, tri_p.get('<unk>', 0))\n",
        "          #p = tri_p + lmbda * big_p\n",
        "          return tri_p\n",
        "  \n",
        "  def nextlikely(self, k = 1, current = '', method = 'unigram'):\n",
        "    blacklist = ['<s>', '<disc>']\n",
        "    if method == 'unigram':\n",
        "      dist = self.unigram\n",
        "    else:\n",
        "      dist = self.bigram.get(current, self.bigram.get('<unk>', {}))\n",
        "    mostlikely = list(dist.items())\n",
        "    #filter out any undesirable tokens\n",
        "    filtered = [(w, p) for (w, p) in mostlikely if w not in blacklist]\n",
        "    #choose one randomly from the top k\n",
        "    words, probdist = zip(*filtered)\n",
        "    res = random.choices(words, probdist)[0]\n",
        "    return res\n",
        "  \n",
        "  def generate(self, k = 1, end = '</s>', limit = 20, method = 'trigram', \n",
        "               methodparams = {}):\n",
        "    current = '<s>'\n",
        "    tokens = []\n",
        "    if method == '':\n",
        "      method = methodparams.get('method', 'trigram')\n",
        "    while current != end and len(tokens) < limit:\n",
        "      current = self.nextlikely(k = k, current = current, method = method)\n",
        "      tokens.append(current)\n",
        "    return ' '.join(tokens[:-1])\n",
        "  \n",
        "  def compute_prob_line(self, line, methodparams = {}):\n",
        "    #this will add _start to the beginning of a line of text\n",
        "    #compute the probability of the line according to the desired model\n",
        "    #and returns probability together with number of tokens\n",
        "    tokens = ['<s>'] + tokenize(line) + ['</s>']\n",
        "    acc = 0\n",
        "    for i, token in enumerate(tokens[1:]):\n",
        "      acc += math.log(self.get_prob(tokens[:i+1], token, methodparams))\n",
        "    return acc, len(tokens[1:])\n",
        "  \n",
        "  def compute_probability(self, filenames = [], methodparams = {}):\n",
        "    #computes the probability (and length) of a corpus contained in filenames\n",
        "    if filenames == []:\n",
        "      filenames = self.files\n",
        "    total_p = 0\n",
        "    total_N = 0\n",
        "    for i, afile in enumerate(filenames):\n",
        "      print('Processing file {}:{}'.format(i, afile))\n",
        "      try:\n",
        "        with open(os.path.join(self.training_dir, afile)) as instream:\n",
        "          for line in instream:\n",
        "            line = line.rstrip()\n",
        "            if len(line) > 0:\n",
        "              p, N = self.compute_prob_line(line, methodparams = methodparams)\n",
        "              total_p += p\n",
        "              total_N += N\n",
        "      except UnicodeDecodeError:\n",
        "        print('UnicodeDecodeError processing file {}: ignoring rest of file'.format(afile))\n",
        "    return total_p, total_N\n",
        "  \n",
        "  def compute_perplexity(self, filenames = [], \n",
        "                         methodparams = {'method': 'bigram', 'smoothing': 'kneser-ney'}):\n",
        "    #compute the probability and length of the corpus\n",
        "    #calculate perplexity\n",
        "    #lower perplexity means that the model better explains the data\n",
        "    p, N = self.compute_probability(filenames = filenames, methodparams = methodparams)\n",
        "    #print(p,N)\n",
        "    pp = math.exp(-p / N)\n",
        "    return pp  \n",
        "  \n",
        "  def _make_unknowns(self, known = 2):\n",
        "    unknown = 0\n",
        "    for (k, v) in list(self.unigram.items()):\n",
        "      if v < known:\n",
        "        del self.unigram[k]\n",
        "        self.unigram['<unk>'] = self.unigram.get('<unk>', 0) + v\n",
        "    for (k, adict) in list(self.bigram.items()):\n",
        "      for (kk, v) in list(adict.items()):\n",
        "        isknown = self.unigram.get(kk, 0)\n",
        "        if isknown == 0:\n",
        "          adict['<unk>'] = adict.get('<unk>', 0) + v\n",
        "          del adict[kk]\n",
        "      isknown = self.unigram.get(k, 0)\n",
        "      if isknown == 0:\n",
        "        del self.bigram[k]\n",
        "        current = self.bigram.get('<unk>', {})\n",
        "        current.update(adict)\n",
        "        self.bigram['<unk>'] = current\n",
        "      else:\n",
        "        self.bigram[k] = adict\n",
        "              \n",
        "  def _discount(self, discount = 0.75):\n",
        "    #discount each bigram count by a small fixed amount\n",
        "    self.bigram = {k: {kk: value-discount for (kk, value) in adict.items()} \n",
        "                   for (k, adict) in self.bigram.items()}\n",
        "    #for each word, store the total amount of the discount so that the total is the same \n",
        "    #i.e., so we are reserving this as probability mass\n",
        "    for k in self.bigram.keys():\n",
        "      lamb = len(self.bigram[k])\n",
        "      self.bigram[k]['<disc>'] = lamb * discount\n",
        "    #work out kneser-ney unigram probabilities\n",
        "    #count the number of contexts each word has been seen in\n",
        "    self.kn = {}\n",
        "    for (k, adict) in self.bigram.items():\n",
        "      for kk in adict.keys():\n",
        "        self.kn[kk] = self.kn.get(kk, 0) + 1"
      ],
      "metadata": {
        "id": "4AKBnsq3HatR"
      },
      "execution_count": 118,
      "outputs": []
    },
    {
      "cell_type": "markdown",
      "source": [
        "## Building the Sentence Completion Challenge (SCC) Reader "
      ],
      "metadata": {
        "id": "wIcvkUdzKcXb"
      }
    },
    {
      "cell_type": "markdown",
      "source": [
        "**Loading in the SCC Questions & Answers** "
      ],
      "metadata": {
        "id": "OIdhmS_YLw5G"
      }
    },
    {
      "cell_type": "code",
      "source": [
        "PARENT_DIR = '/content/drive/MyDrive/Colab Notebooks/sentence-completion'"
      ],
      "metadata": {
        "id": "IN5wHMi_LzMg"
      },
      "execution_count": 10,
      "outputs": []
    },
    {
      "cell_type": "code",
      "source": [
        "questions = os.path.join(PARENT_DIR, 'testing_data.csv')\n",
        "answers = os.path.join(PARENT_DIR, 'test_answer.csv')"
      ],
      "metadata": {
        "id": "4ejkPzCnLzO6"
      },
      "execution_count": 11,
      "outputs": []
    },
    {
      "cell_type": "code",
      "source": [
        "with open(questions) as instream:\n",
        "  csvreader = csv.reader(instream)\n",
        "  lines = list(csvreader)\n",
        "qs_df = pd.DataFrame(lines[1:], columns = lines[0])\n",
        "qs_df.head()"
      ],
      "metadata": {
        "colab": {
          "base_uri": "https://localhost:8080/",
          "height": 206
        },
        "id": "o1HY4EueMGXt",
        "outputId": "c5e035a1-e278-46fd-ef66-9e2bb0a97dca"
      },
      "execution_count": 12,
      "outputs": [
        {
          "output_type": "execute_result",
          "data": {
            "text/plain": [
              "  id                                           question        a)  \\\n",
              "0  1  I have it from the same source that you are bo...    crying   \n",
              "1  2  It was furnished partly as a sitting and partl...  daintily   \n",
              "2  3  As I descended , my old ally , the _____ , cam...      gods   \n",
              "3  4  We got off , _____ our fare , and the trap rat...   rubbing   \n",
              "4  5  He held in his hand a _____ of blue paper , sc...    supply   \n",
              "\n",
              "                b)             c)         d)             e)  \n",
              "0  instantaneously       residing    matched        walking  \n",
              "1        privately  inadvertently  miserably    comfortably  \n",
              "2             moon        panther      guard  country-dance  \n",
              "3         doubling           paid     naming       carrying  \n",
              "4           parcel           sign      sheet         chorus  "
            ],
            "text/html": [
              "\n",
              "  <div id=\"df-7ca68857-d029-4609-88f5-6f083ffaba97\">\n",
              "    <div class=\"colab-df-container\">\n",
              "      <div>\n",
              "<style scoped>\n",
              "    .dataframe tbody tr th:only-of-type {\n",
              "        vertical-align: middle;\n",
              "    }\n",
              "\n",
              "    .dataframe tbody tr th {\n",
              "        vertical-align: top;\n",
              "    }\n",
              "\n",
              "    .dataframe thead th {\n",
              "        text-align: right;\n",
              "    }\n",
              "</style>\n",
              "<table border=\"1\" class=\"dataframe\">\n",
              "  <thead>\n",
              "    <tr style=\"text-align: right;\">\n",
              "      <th></th>\n",
              "      <th>id</th>\n",
              "      <th>question</th>\n",
              "      <th>a)</th>\n",
              "      <th>b)</th>\n",
              "      <th>c)</th>\n",
              "      <th>d)</th>\n",
              "      <th>e)</th>\n",
              "    </tr>\n",
              "  </thead>\n",
              "  <tbody>\n",
              "    <tr>\n",
              "      <th>0</th>\n",
              "      <td>1</td>\n",
              "      <td>I have it from the same source that you are bo...</td>\n",
              "      <td>crying</td>\n",
              "      <td>instantaneously</td>\n",
              "      <td>residing</td>\n",
              "      <td>matched</td>\n",
              "      <td>walking</td>\n",
              "    </tr>\n",
              "    <tr>\n",
              "      <th>1</th>\n",
              "      <td>2</td>\n",
              "      <td>It was furnished partly as a sitting and partl...</td>\n",
              "      <td>daintily</td>\n",
              "      <td>privately</td>\n",
              "      <td>inadvertently</td>\n",
              "      <td>miserably</td>\n",
              "      <td>comfortably</td>\n",
              "    </tr>\n",
              "    <tr>\n",
              "      <th>2</th>\n",
              "      <td>3</td>\n",
              "      <td>As I descended , my old ally , the _____ , cam...</td>\n",
              "      <td>gods</td>\n",
              "      <td>moon</td>\n",
              "      <td>panther</td>\n",
              "      <td>guard</td>\n",
              "      <td>country-dance</td>\n",
              "    </tr>\n",
              "    <tr>\n",
              "      <th>3</th>\n",
              "      <td>4</td>\n",
              "      <td>We got off , _____ our fare , and the trap rat...</td>\n",
              "      <td>rubbing</td>\n",
              "      <td>doubling</td>\n",
              "      <td>paid</td>\n",
              "      <td>naming</td>\n",
              "      <td>carrying</td>\n",
              "    </tr>\n",
              "    <tr>\n",
              "      <th>4</th>\n",
              "      <td>5</td>\n",
              "      <td>He held in his hand a _____ of blue paper , sc...</td>\n",
              "      <td>supply</td>\n",
              "      <td>parcel</td>\n",
              "      <td>sign</td>\n",
              "      <td>sheet</td>\n",
              "      <td>chorus</td>\n",
              "    </tr>\n",
              "  </tbody>\n",
              "</table>\n",
              "</div>\n",
              "      <button class=\"colab-df-convert\" onclick=\"convertToInteractive('df-7ca68857-d029-4609-88f5-6f083ffaba97')\"\n",
              "              title=\"Convert this dataframe to an interactive table.\"\n",
              "              style=\"display:none;\">\n",
              "        \n",
              "  <svg xmlns=\"http://www.w3.org/2000/svg\" height=\"24px\"viewBox=\"0 0 24 24\"\n",
              "       width=\"24px\">\n",
              "    <path d=\"M0 0h24v24H0V0z\" fill=\"none\"/>\n",
              "    <path d=\"M18.56 5.44l.94 2.06.94-2.06 2.06-.94-2.06-.94-.94-2.06-.94 2.06-2.06.94zm-11 1L8.5 8.5l.94-2.06 2.06-.94-2.06-.94L8.5 2.5l-.94 2.06-2.06.94zm10 10l.94 2.06.94-2.06 2.06-.94-2.06-.94-.94-2.06-.94 2.06-2.06.94z\"/><path d=\"M17.41 7.96l-1.37-1.37c-.4-.4-.92-.59-1.43-.59-.52 0-1.04.2-1.43.59L10.3 9.45l-7.72 7.72c-.78.78-.78 2.05 0 2.83L4 21.41c.39.39.9.59 1.41.59.51 0 1.02-.2 1.41-.59l7.78-7.78 2.81-2.81c.8-.78.8-2.07 0-2.86zM5.41 20L4 18.59l7.72-7.72 1.47 1.35L5.41 20z\"/>\n",
              "  </svg>\n",
              "      </button>\n",
              "      \n",
              "  <style>\n",
              "    .colab-df-container {\n",
              "      display:flex;\n",
              "      flex-wrap:wrap;\n",
              "      gap: 12px;\n",
              "    }\n",
              "\n",
              "    .colab-df-convert {\n",
              "      background-color: #E8F0FE;\n",
              "      border: none;\n",
              "      border-radius: 50%;\n",
              "      cursor: pointer;\n",
              "      display: none;\n",
              "      fill: #1967D2;\n",
              "      height: 32px;\n",
              "      padding: 0 0 0 0;\n",
              "      width: 32px;\n",
              "    }\n",
              "\n",
              "    .colab-df-convert:hover {\n",
              "      background-color: #E2EBFA;\n",
              "      box-shadow: 0px 1px 2px rgba(60, 64, 67, 0.3), 0px 1px 3px 1px rgba(60, 64, 67, 0.15);\n",
              "      fill: #174EA6;\n",
              "    }\n",
              "\n",
              "    [theme=dark] .colab-df-convert {\n",
              "      background-color: #3B4455;\n",
              "      fill: #D2E3FC;\n",
              "    }\n",
              "\n",
              "    [theme=dark] .colab-df-convert:hover {\n",
              "      background-color: #434B5C;\n",
              "      box-shadow: 0px 1px 3px 1px rgba(0, 0, 0, 0.15);\n",
              "      filter: drop-shadow(0px 1px 2px rgba(0, 0, 0, 0.3));\n",
              "      fill: #FFFFFF;\n",
              "    }\n",
              "  </style>\n",
              "\n",
              "      <script>\n",
              "        const buttonEl =\n",
              "          document.querySelector('#df-7ca68857-d029-4609-88f5-6f083ffaba97 button.colab-df-convert');\n",
              "        buttonEl.style.display =\n",
              "          google.colab.kernel.accessAllowed ? 'block' : 'none';\n",
              "\n",
              "        async function convertToInteractive(key) {\n",
              "          const element = document.querySelector('#df-7ca68857-d029-4609-88f5-6f083ffaba97');\n",
              "          const dataTable =\n",
              "            await google.colab.kernel.invokeFunction('convertToInteractive',\n",
              "                                                     [key], {});\n",
              "          if (!dataTable) return;\n",
              "\n",
              "          const docLinkHtml = 'Like what you see? Visit the ' +\n",
              "            '<a target=\"_blank\" href=https://colab.research.google.com/notebooks/data_table.ipynb>data table notebook</a>'\n",
              "            + ' to learn more about interactive tables.';\n",
              "          element.innerHTML = '';\n",
              "          dataTable['output_type'] = 'display_data';\n",
              "          await google.colab.output.renderOutput(dataTable, element);\n",
              "          const docLink = document.createElement('div');\n",
              "          docLink.innerHTML = docLinkHtml;\n",
              "          element.appendChild(docLink);\n",
              "        }\n",
              "      </script>\n",
              "    </div>\n",
              "  </div>\n",
              "  "
            ]
          },
          "metadata": {},
          "execution_count": 12
        }
      ]
    },
    {
      "cell_type": "code",
      "source": [
        "tokens = [tokenize(q) for q in qs_df['question']]\n",
        "print(tokens[:1])"
      ],
      "metadata": {
        "colab": {
          "base_uri": "https://localhost:8080/"
        },
        "id": "huozZ0P7MGZR",
        "outputId": "bf3eb1b3-90e9-4f2b-bd2f-cec6a48e7013"
      },
      "execution_count": 72,
      "outputs": [
        {
          "output_type": "stream",
          "name": "stdout",
          "text": [
            "[['I', 'have', 'it', 'from', 'the', 'same', 'source', 'that', 'you', 'are', 'both', 'an', 'orphan', 'and', 'a', 'bachelor', 'and', 'are', '_____', 'alone', 'in', 'London', '.']]\n"
          ]
        }
      ]
    },
    {
      "cell_type": "code",
      "source": [
        "class question:\n",
        "  def __init__(self, aline):\n",
        "    self.fields = aline\n",
        "  \n",
        "  def get_field(self, field):\n",
        "    return self.fields[question.colnames[field]]\n",
        "\n",
        "  def get_tokens(self):\n",
        "    return ['<s>'] + tokenize(self.fields[question.colnames['question']]) + ['</s>']\n",
        "  \n",
        "  def get_left_context(self, window = 1, target = '_____'):\n",
        "    found = -1\n",
        "    sent_tokens = self.get_tokens()\n",
        "    for i, token in enumerate(sent_tokens):\n",
        "      if token == target:\n",
        "        found = i\n",
        "        break\n",
        "    sent = sent_tokens[i - window: i] \n",
        "    if found > -1:\n",
        "      sentence = ' '.join(sent)\n",
        "      return sentence\n",
        "    else:\n",
        "      return []\n",
        "\n",
        "  def get_right_context(self, window = 1, target = '_____'):\n",
        "    found = -1\n",
        "    sent_tokens = self.get_tokens()\n",
        "    for i, token in enumerate(sent_tokens):\n",
        "      if token == target:\n",
        "        found = i\n",
        "        break  \n",
        "    if found > -1:\n",
        "      return sent_tokens[found+1: found+window+1]\n",
        "    else:\n",
        "      return []\n",
        "  \n",
        "  def add_answer(self, fields):\n",
        "    self.answer = fields[1]\n",
        "  \n",
        "  def chooseA(self):\n",
        "    return('a')\n",
        "\n",
        "  def chooserandom(self):\n",
        "    choices = ['a', 'b', 'c', 'd', 'e']\n",
        "    return np.random.choice(choices)\n",
        "\n",
        "  def chooseunigram(self, lm):\n",
        "    choices = ['a', 'b', 'c', 'd', 'e']      \n",
        "    probs = [lm.unigram.get(self.get_field(ch + ')'), 0) for ch in choices]\n",
        "    maxprob = max(probs)\n",
        "    bestchoices = [ch for ch, prob in zip(choices, probs) if prob == maxprob]\n",
        "    #if len(bestchoices)>1:\n",
        "    #    print('Randomly choosing from {}'.format(len(bestchoices)))\n",
        "    return np.random.choice(bestchoices)\n",
        "\n",
        "  def choose_backoff(self, lm, methods = ['bigram', 'unigram'], \n",
        "                     choices = ['a', 'b', 'c', 'd', 'e']):\n",
        "    context = self.get_left_context(window = 1)\n",
        "    probs = [lm.get_prob(context, self.get_field(ch + ')'), \n",
        "                         methodparams = {'method': methods[0]}) for ch in choices]\n",
        "    maxprob = max(probs)\n",
        "    bestchoices = [ch for ch, prob in zip(choices, probs) if prob == maxprob]\n",
        "    # if len(bestchoices)>1:\n",
        "    #     print('Backing off on {}'.format(len(bestchoices)))\n",
        "    return self.choose(lm, choices = bestchoices, method = methods[1])\n",
        "\n",
        "  def choose(self, lm, method = 'trigram', choices = ['a', 'b', 'c', 'd', 'e']):\n",
        "    if choices == []:\n",
        "      choices = ['a', 'b', 'c', 'd', 'e']\n",
        "    if method == 'unigram':\n",
        "      return self.chooseunigram(lm)\n",
        "    if method == 'bigram':\n",
        "      rc = self.get_right_context(window = 1)\n",
        "      lc = self.get_left_context(window = 1)\n",
        "      probs = [lm.get_prob(lc, [self.get_field(ch + ')')], \n",
        "                           methodparams = {'method': method.split('_')[0]}) * \n",
        "               lm.get_prob(self.get_field(ch + ')'), lc, \n",
        "                           methodparams = {'method': method.split('_')[0]}) for ch in choices]\n",
        "      maxprob = max(probs)\n",
        "      bestchoices = [ch for ch, prob in zip(choices, probs) if prob == maxprob]\n",
        "      return np.random.choice(bestchoices)\n",
        "    elif method == 'trigram':\n",
        "      rc = self.get_right_context(window = 2)\n",
        "      lc = self.get_left_context(window = 2)\n",
        "      probs = [lm.get_prob(lc, [self.get_field(ch + ')')], \n",
        "                           methodparams = {'method': method.split('_')[0]}) * \n",
        "               lm.get_prob(self.get_field(ch + ')'), lc, \n",
        "                           methodparams = {'method': method.split('_')[0]}) for ch in choices]\n",
        "      maxprob = max(probs)\n",
        "      bestchoices = [ch for ch, prob in zip(choices, probs) if prob == maxprob]\n",
        "      return np.random.choice(bestchoices)\n",
        "\n",
        "  def predict(self, method, lm = mylm):\n",
        "    if method == 'chooseA':\n",
        "      return self.chooseA()\n",
        "    elif method == 'random':\n",
        "      return self.chooserandom()\n",
        "    elif method == 'bigram':\n",
        "      return self.choose(lm, method = 'bigram')\n",
        "    elif method == 'bigram_backoff':\n",
        "      return self.choose_backoff(lm, methods = ['unigram', 'bigram'])\n",
        "    elif method == \"trigram\":\n",
        "      return self.choose(lm, method = 'trigram')\n",
        "      # return self.choose(trigram_model)\n",
        "    else:\n",
        "      return self.choose(lm, method = method)\n",
        "\n",
        "  def predict_and_score(self, method):\n",
        "    #compare prediction according to method with the correct answer\n",
        "    #return 1 or 0 accordingly\n",
        "    prediction = self.predict(method = method)\n",
        "    if prediction == self.answer:\n",
        "      return 1\n",
        "    else:\n",
        "      return 0"
      ],
      "metadata": {
        "id": "AzDsP8n_K0L-"
      },
      "execution_count": 129,
      "outputs": []
    },
    {
      "cell_type": "code",
      "source": [
        "class scc_reader:\n",
        "  def __init__(self, qs = questions, ans = answers):\n",
        "    self.qs = qs\n",
        "    self.ans = ans\n",
        "    self.read_files()\n",
        "    \n",
        "  def read_files(self):\n",
        "    #read in the question file\n",
        "    with open(self.qs) as instream:\n",
        "      csvreader = csv.reader(instream)\n",
        "      qlines = list(csvreader)\n",
        "    #store the column names as a reverse index so they can be used to reference parts of the question\n",
        "    question.colnames = {item: i for i, item in enumerate(qlines[0])}\n",
        "    #create a question instance for each line of the file (other than heading line)\n",
        "    self.questions = [question(qline) for qline in qlines[1:]]\n",
        "    #read in the answer file\n",
        "    with open(self.ans) as instream:\n",
        "      csvreader = csv.reader(instream)\n",
        "      alines = list(csvreader)\n",
        "    #add answers to questions so predictions can be checked    \n",
        "    for q, aline in zip(self.questions, alines[1:]):\n",
        "      q.add_answer(aline)\n",
        "    \n",
        "  def get_field(self, field):\n",
        "    return [q.get_field(field) for q in self.questions] \n",
        "  \n",
        "  def predict(self, method):\n",
        "    return [q.predict(method = method) for q in self.questions]\n",
        "  \n",
        "  def predict_and_score(self, method):\n",
        "    scores = [q.predict_and_score(method = method) for q in self.questions]\n",
        "    return sum(scores) / len(scores)"
      ],
      "metadata": {
        "id": "ff8tSXHBK0OB"
      },
      "execution_count": 37,
      "outputs": []
    },
    {
      "cell_type": "markdown",
      "source": [
        "## N-Gram Model Evaluation "
      ],
      "metadata": {
        "id": "6XuvyjfIpTk-"
      }
    },
    {
      "cell_type": "code",
      "source": [
        "MAX_FILES = 5\n",
        "filesets = {'training': trainingfiles[:MAX_FILES], 'testing': testingfiles[:MAX_FILES]}\n",
        "methods = [{'method': 'unigram'}, {'method': 'bigram', 'smoothing': 'katz'}, \n",
        "           {'method': 'bigram', 'smoothing': 'kneser-ney'}]\n",
        "mylm = language_model(files = filesets['training'])"
      ],
      "metadata": {
        "colab": {
          "base_uri": "https://localhost:8080/"
        },
        "id": "4rdbim8xHbNV",
        "outputId": "cfc03f00-f456-4ab8-f4cb-39e190d3c8b8"
      },
      "execution_count": 119,
      "outputs": [
        {
          "output_type": "stream",
          "name": "stderr",
          "text": [
            "\r  0%|          | 0/5 [00:00<?, ?it/s]"
          ]
        },
        {
          "output_type": "stream",
          "name": "stdout",
          "text": [
            "Processing 1ADAM10.TXT\n"
          ]
        },
        {
          "output_type": "stream",
          "name": "stderr",
          "text": [
            "\r 20%|██        | 1/5 [00:09<00:37,  9.39s/it]"
          ]
        },
        {
          "output_type": "stream",
          "name": "stdout",
          "text": [
            "Processing 10EVM10.TXT\n"
          ]
        },
        {
          "output_type": "stream",
          "name": "stderr",
          "text": [
            "\r 40%|████      | 2/5 [00:43<01:11, 23.98s/it]"
          ]
        },
        {
          "output_type": "stream",
          "name": "stdout",
          "text": [
            "Processing TCNTR10.TXT\n"
          ]
        },
        {
          "output_type": "stream",
          "name": "stderr",
          "text": [
            "\r 60%|██████    | 3/5 [00:50<00:32, 16.25s/it]"
          ]
        },
        {
          "output_type": "stream",
          "name": "stdout",
          "text": [
            "Processing AGENT10.TXT\n"
          ]
        },
        {
          "output_type": "stream",
          "name": "stderr",
          "text": [
            "\r 80%|████████  | 4/5 [01:15<00:19, 19.75s/it]"
          ]
        },
        {
          "output_type": "stream",
          "name": "stdout",
          "text": [
            "Processing BBETC10.TXT\n"
          ]
        },
        {
          "output_type": "stream",
          "name": "stderr",
          "text": [
            "100%|██████████| 5/5 [01:39<00:00, 19.93s/it]\n"
          ]
        }
      ]
    },
    {
      "cell_type": "markdown",
      "source": [
        "**Displaying prediction results** "
      ],
      "metadata": {
        "id": "n9TzejvWwc4q"
      }
    },
    {
      "cell_type": "code",
      "source": [
        "SCC = scc_reader()\n",
        "qs_df['random_pred'] = SCC.predict(method = 'random')\n",
        "qs_df['chooseA_pred'] = SCC.predict(method = 'chooseA')\n",
        "qs_df['unigram_pred'] = SCC.predict(method = 'unigram')\n",
        "qs_df['bigram_pred'] = SCC.predict(method = 'bigram')\n",
        "qs_df['trigram_pred'] = SCC.predict(method = 'trigram')\n",
        "qs_df = qs_df[['id', 'question', 'a)', 'b)', 'c)', 'd)', 'e)', 'random_pred', \n",
        "               'chooseA_pred', 'unigram_pred', 'bigram_pred', 'trigram_pred']]\n",
        "qs_df.head()"
      ],
      "metadata": {
        "colab": {
          "base_uri": "https://localhost:8080/",
          "height": 652
        },
        "id": "I6LKg7XHNyWr",
        "outputId": "5091b8f7-1bc1-4beb-d9c9-b2fe33f62be3"
      },
      "execution_count": 85,
      "outputs": [
        {
          "output_type": "execute_result",
          "data": {
            "text/plain": [
              "  id                                           question        a)  \\\n",
              "0  1  I have it from the same source that you are bo...    crying   \n",
              "1  2  It was furnished partly as a sitting and partl...  daintily   \n",
              "2  3  As I descended , my old ally , the _____ , cam...      gods   \n",
              "3  4  We got off , _____ our fare , and the trap rat...   rubbing   \n",
              "4  5  He held in his hand a _____ of blue paper , sc...    supply   \n",
              "\n",
              "                b)             c)         d)             e) random_pred  \\\n",
              "0  instantaneously       residing    matched        walking           c   \n",
              "1        privately  inadvertently  miserably    comfortably           e   \n",
              "2             moon        panther      guard  country-dance           e   \n",
              "3         doubling           paid     naming       carrying           b   \n",
              "4           parcel           sign      sheet         chorus           e   \n",
              "\n",
              "  chooseA_pred unigram_pred bigram_pred trigram_pred  \n",
              "0            a            e           e            c  \n",
              "1            a            e           a            d  \n",
              "2            a            b           d            e  \n",
              "3            a            c           d            e  \n",
              "4            a            c           c            b  "
            ],
            "text/html": [
              "\n",
              "  <div id=\"df-b987807d-eb9b-4159-80dd-3eb76a35e189\">\n",
              "    <div class=\"colab-df-container\">\n",
              "      <div>\n",
              "<style scoped>\n",
              "    .dataframe tbody tr th:only-of-type {\n",
              "        vertical-align: middle;\n",
              "    }\n",
              "\n",
              "    .dataframe tbody tr th {\n",
              "        vertical-align: top;\n",
              "    }\n",
              "\n",
              "    .dataframe thead th {\n",
              "        text-align: right;\n",
              "    }\n",
              "</style>\n",
              "<table border=\"1\" class=\"dataframe\">\n",
              "  <thead>\n",
              "    <tr style=\"text-align: right;\">\n",
              "      <th></th>\n",
              "      <th>id</th>\n",
              "      <th>question</th>\n",
              "      <th>a)</th>\n",
              "      <th>b)</th>\n",
              "      <th>c)</th>\n",
              "      <th>d)</th>\n",
              "      <th>e)</th>\n",
              "      <th>random_pred</th>\n",
              "      <th>chooseA_pred</th>\n",
              "      <th>unigram_pred</th>\n",
              "      <th>bigram_pred</th>\n",
              "      <th>trigram_pred</th>\n",
              "    </tr>\n",
              "  </thead>\n",
              "  <tbody>\n",
              "    <tr>\n",
              "      <th>0</th>\n",
              "      <td>1</td>\n",
              "      <td>I have it from the same source that you are bo...</td>\n",
              "      <td>crying</td>\n",
              "      <td>instantaneously</td>\n",
              "      <td>residing</td>\n",
              "      <td>matched</td>\n",
              "      <td>walking</td>\n",
              "      <td>c</td>\n",
              "      <td>a</td>\n",
              "      <td>e</td>\n",
              "      <td>e</td>\n",
              "      <td>c</td>\n",
              "    </tr>\n",
              "    <tr>\n",
              "      <th>1</th>\n",
              "      <td>2</td>\n",
              "      <td>It was furnished partly as a sitting and partl...</td>\n",
              "      <td>daintily</td>\n",
              "      <td>privately</td>\n",
              "      <td>inadvertently</td>\n",
              "      <td>miserably</td>\n",
              "      <td>comfortably</td>\n",
              "      <td>e</td>\n",
              "      <td>a</td>\n",
              "      <td>e</td>\n",
              "      <td>a</td>\n",
              "      <td>d</td>\n",
              "    </tr>\n",
              "    <tr>\n",
              "      <th>2</th>\n",
              "      <td>3</td>\n",
              "      <td>As I descended , my old ally , the _____ , cam...</td>\n",
              "      <td>gods</td>\n",
              "      <td>moon</td>\n",
              "      <td>panther</td>\n",
              "      <td>guard</td>\n",
              "      <td>country-dance</td>\n",
              "      <td>e</td>\n",
              "      <td>a</td>\n",
              "      <td>b</td>\n",
              "      <td>d</td>\n",
              "      <td>e</td>\n",
              "    </tr>\n",
              "    <tr>\n",
              "      <th>3</th>\n",
              "      <td>4</td>\n",
              "      <td>We got off , _____ our fare , and the trap rat...</td>\n",
              "      <td>rubbing</td>\n",
              "      <td>doubling</td>\n",
              "      <td>paid</td>\n",
              "      <td>naming</td>\n",
              "      <td>carrying</td>\n",
              "      <td>b</td>\n",
              "      <td>a</td>\n",
              "      <td>c</td>\n",
              "      <td>d</td>\n",
              "      <td>e</td>\n",
              "    </tr>\n",
              "    <tr>\n",
              "      <th>4</th>\n",
              "      <td>5</td>\n",
              "      <td>He held in his hand a _____ of blue paper , sc...</td>\n",
              "      <td>supply</td>\n",
              "      <td>parcel</td>\n",
              "      <td>sign</td>\n",
              "      <td>sheet</td>\n",
              "      <td>chorus</td>\n",
              "      <td>e</td>\n",
              "      <td>a</td>\n",
              "      <td>c</td>\n",
              "      <td>c</td>\n",
              "      <td>b</td>\n",
              "    </tr>\n",
              "  </tbody>\n",
              "</table>\n",
              "</div>\n",
              "      <button class=\"colab-df-convert\" onclick=\"convertToInteractive('df-b987807d-eb9b-4159-80dd-3eb76a35e189')\"\n",
              "              title=\"Convert this dataframe to an interactive table.\"\n",
              "              style=\"display:none;\">\n",
              "        \n",
              "  <svg xmlns=\"http://www.w3.org/2000/svg\" height=\"24px\"viewBox=\"0 0 24 24\"\n",
              "       width=\"24px\">\n",
              "    <path d=\"M0 0h24v24H0V0z\" fill=\"none\"/>\n",
              "    <path d=\"M18.56 5.44l.94 2.06.94-2.06 2.06-.94-2.06-.94-.94-2.06-.94 2.06-2.06.94zm-11 1L8.5 8.5l.94-2.06 2.06-.94-2.06-.94L8.5 2.5l-.94 2.06-2.06.94zm10 10l.94 2.06.94-2.06 2.06-.94-2.06-.94-.94-2.06-.94 2.06-2.06.94z\"/><path d=\"M17.41 7.96l-1.37-1.37c-.4-.4-.92-.59-1.43-.59-.52 0-1.04.2-1.43.59L10.3 9.45l-7.72 7.72c-.78.78-.78 2.05 0 2.83L4 21.41c.39.39.9.59 1.41.59.51 0 1.02-.2 1.41-.59l7.78-7.78 2.81-2.81c.8-.78.8-2.07 0-2.86zM5.41 20L4 18.59l7.72-7.72 1.47 1.35L5.41 20z\"/>\n",
              "  </svg>\n",
              "      </button>\n",
              "      \n",
              "  <style>\n",
              "    .colab-df-container {\n",
              "      display:flex;\n",
              "      flex-wrap:wrap;\n",
              "      gap: 12px;\n",
              "    }\n",
              "\n",
              "    .colab-df-convert {\n",
              "      background-color: #E8F0FE;\n",
              "      border: none;\n",
              "      border-radius: 50%;\n",
              "      cursor: pointer;\n",
              "      display: none;\n",
              "      fill: #1967D2;\n",
              "      height: 32px;\n",
              "      padding: 0 0 0 0;\n",
              "      width: 32px;\n",
              "    }\n",
              "\n",
              "    .colab-df-convert:hover {\n",
              "      background-color: #E2EBFA;\n",
              "      box-shadow: 0px 1px 2px rgba(60, 64, 67, 0.3), 0px 1px 3px 1px rgba(60, 64, 67, 0.15);\n",
              "      fill: #174EA6;\n",
              "    }\n",
              "\n",
              "    [theme=dark] .colab-df-convert {\n",
              "      background-color: #3B4455;\n",
              "      fill: #D2E3FC;\n",
              "    }\n",
              "\n",
              "    [theme=dark] .colab-df-convert:hover {\n",
              "      background-color: #434B5C;\n",
              "      box-shadow: 0px 1px 3px 1px rgba(0, 0, 0, 0.15);\n",
              "      filter: drop-shadow(0px 1px 2px rgba(0, 0, 0, 0.3));\n",
              "      fill: #FFFFFF;\n",
              "    }\n",
              "  </style>\n",
              "\n",
              "      <script>\n",
              "        const buttonEl =\n",
              "          document.querySelector('#df-b987807d-eb9b-4159-80dd-3eb76a35e189 button.colab-df-convert');\n",
              "        buttonEl.style.display =\n",
              "          google.colab.kernel.accessAllowed ? 'block' : 'none';\n",
              "\n",
              "        async function convertToInteractive(key) {\n",
              "          const element = document.querySelector('#df-b987807d-eb9b-4159-80dd-3eb76a35e189');\n",
              "          const dataTable =\n",
              "            await google.colab.kernel.invokeFunction('convertToInteractive',\n",
              "                                                     [key], {});\n",
              "          if (!dataTable) return;\n",
              "\n",
              "          const docLinkHtml = 'Like what you see? Visit the ' +\n",
              "            '<a target=\"_blank\" href=https://colab.research.google.com/notebooks/data_table.ipynb>data table notebook</a>'\n",
              "            + ' to learn more about interactive tables.';\n",
              "          element.innerHTML = '';\n",
              "          dataTable['output_type'] = 'display_data';\n",
              "          await google.colab.output.renderOutput(dataTable, element);\n",
              "          const docLink = document.createElement('div');\n",
              "          docLink.innerHTML = docLinkHtml;\n",
              "          element.appendChild(docLink);\n",
              "        }\n",
              "      </script>\n",
              "    </div>\n",
              "  </div>\n",
              "  "
            ]
          },
          "metadata": {},
          "execution_count": 85
        }
      ]
    },
    {
      "cell_type": "code",
      "source": [
        "with open(answers) as instream:\n",
        "  csvreader = csv.reader(instream)\n",
        "  q_answers = list(csvreader)"
      ],
      "metadata": {
        "id": "1Ed2R8XXN6_N"
      },
      "execution_count": 53,
      "outputs": []
    },
    {
      "cell_type": "code",
      "source": [
        "ans_df = pd.DataFrame(q_answers[1:], columns = q_answers[0])\n",
        "results = pd.concat([qs_df, ans_df['answer']], axis = 1)\n",
        "results = results[['id', 'question', 'a)', 'b)', 'c)', 'd)', 'e)', 'answer', \n",
        "                   'random_pred', 'chooseA_pred', 'unigram_pred', 'bigram_pred', \n",
        "                   'trigram_pred']]\n",
        "results.head()"
      ],
      "metadata": {
        "colab": {
          "base_uri": "https://localhost:8080/",
          "height": 652
        },
        "id": "64ACVs9Tke6M",
        "outputId": "582dbb13-ae46-41fc-f908-78a6cee5879b"
      },
      "execution_count": 87,
      "outputs": [
        {
          "output_type": "execute_result",
          "data": {
            "text/plain": [
              "  id                                           question        a)  \\\n",
              "0  1  I have it from the same source that you are bo...    crying   \n",
              "1  2  It was furnished partly as a sitting and partl...  daintily   \n",
              "2  3  As I descended , my old ally , the _____ , cam...      gods   \n",
              "3  4  We got off , _____ our fare , and the trap rat...   rubbing   \n",
              "4  5  He held in his hand a _____ of blue paper , sc...    supply   \n",
              "\n",
              "                b)             c)         d)             e) answer  \\\n",
              "0  instantaneously       residing    matched        walking      c   \n",
              "1        privately  inadvertently  miserably    comfortably      a   \n",
              "2             moon        panther      guard  country-dance      d   \n",
              "3         doubling           paid     naming       carrying      c   \n",
              "4           parcel           sign      sheet         chorus      d   \n",
              "\n",
              "  random_pred chooseA_pred unigram_pred bigram_pred trigram_pred  \n",
              "0           c            a            e           e            c  \n",
              "1           e            a            e           a            d  \n",
              "2           e            a            b           d            e  \n",
              "3           b            a            c           d            e  \n",
              "4           e            a            c           c            b  "
            ],
            "text/html": [
              "\n",
              "  <div id=\"df-6a510f5d-0fae-460a-8aa0-9d456d6b4f44\">\n",
              "    <div class=\"colab-df-container\">\n",
              "      <div>\n",
              "<style scoped>\n",
              "    .dataframe tbody tr th:only-of-type {\n",
              "        vertical-align: middle;\n",
              "    }\n",
              "\n",
              "    .dataframe tbody tr th {\n",
              "        vertical-align: top;\n",
              "    }\n",
              "\n",
              "    .dataframe thead th {\n",
              "        text-align: right;\n",
              "    }\n",
              "</style>\n",
              "<table border=\"1\" class=\"dataframe\">\n",
              "  <thead>\n",
              "    <tr style=\"text-align: right;\">\n",
              "      <th></th>\n",
              "      <th>id</th>\n",
              "      <th>question</th>\n",
              "      <th>a)</th>\n",
              "      <th>b)</th>\n",
              "      <th>c)</th>\n",
              "      <th>d)</th>\n",
              "      <th>e)</th>\n",
              "      <th>answer</th>\n",
              "      <th>random_pred</th>\n",
              "      <th>chooseA_pred</th>\n",
              "      <th>unigram_pred</th>\n",
              "      <th>bigram_pred</th>\n",
              "      <th>trigram_pred</th>\n",
              "    </tr>\n",
              "  </thead>\n",
              "  <tbody>\n",
              "    <tr>\n",
              "      <th>0</th>\n",
              "      <td>1</td>\n",
              "      <td>I have it from the same source that you are bo...</td>\n",
              "      <td>crying</td>\n",
              "      <td>instantaneously</td>\n",
              "      <td>residing</td>\n",
              "      <td>matched</td>\n",
              "      <td>walking</td>\n",
              "      <td>c</td>\n",
              "      <td>c</td>\n",
              "      <td>a</td>\n",
              "      <td>e</td>\n",
              "      <td>e</td>\n",
              "      <td>c</td>\n",
              "    </tr>\n",
              "    <tr>\n",
              "      <th>1</th>\n",
              "      <td>2</td>\n",
              "      <td>It was furnished partly as a sitting and partl...</td>\n",
              "      <td>daintily</td>\n",
              "      <td>privately</td>\n",
              "      <td>inadvertently</td>\n",
              "      <td>miserably</td>\n",
              "      <td>comfortably</td>\n",
              "      <td>a</td>\n",
              "      <td>e</td>\n",
              "      <td>a</td>\n",
              "      <td>e</td>\n",
              "      <td>a</td>\n",
              "      <td>d</td>\n",
              "    </tr>\n",
              "    <tr>\n",
              "      <th>2</th>\n",
              "      <td>3</td>\n",
              "      <td>As I descended , my old ally , the _____ , cam...</td>\n",
              "      <td>gods</td>\n",
              "      <td>moon</td>\n",
              "      <td>panther</td>\n",
              "      <td>guard</td>\n",
              "      <td>country-dance</td>\n",
              "      <td>d</td>\n",
              "      <td>e</td>\n",
              "      <td>a</td>\n",
              "      <td>b</td>\n",
              "      <td>d</td>\n",
              "      <td>e</td>\n",
              "    </tr>\n",
              "    <tr>\n",
              "      <th>3</th>\n",
              "      <td>4</td>\n",
              "      <td>We got off , _____ our fare , and the trap rat...</td>\n",
              "      <td>rubbing</td>\n",
              "      <td>doubling</td>\n",
              "      <td>paid</td>\n",
              "      <td>naming</td>\n",
              "      <td>carrying</td>\n",
              "      <td>c</td>\n",
              "      <td>b</td>\n",
              "      <td>a</td>\n",
              "      <td>c</td>\n",
              "      <td>d</td>\n",
              "      <td>e</td>\n",
              "    </tr>\n",
              "    <tr>\n",
              "      <th>4</th>\n",
              "      <td>5</td>\n",
              "      <td>He held in his hand a _____ of blue paper , sc...</td>\n",
              "      <td>supply</td>\n",
              "      <td>parcel</td>\n",
              "      <td>sign</td>\n",
              "      <td>sheet</td>\n",
              "      <td>chorus</td>\n",
              "      <td>d</td>\n",
              "      <td>e</td>\n",
              "      <td>a</td>\n",
              "      <td>c</td>\n",
              "      <td>c</td>\n",
              "      <td>b</td>\n",
              "    </tr>\n",
              "  </tbody>\n",
              "</table>\n",
              "</div>\n",
              "      <button class=\"colab-df-convert\" onclick=\"convertToInteractive('df-6a510f5d-0fae-460a-8aa0-9d456d6b4f44')\"\n",
              "              title=\"Convert this dataframe to an interactive table.\"\n",
              "              style=\"display:none;\">\n",
              "        \n",
              "  <svg xmlns=\"http://www.w3.org/2000/svg\" height=\"24px\"viewBox=\"0 0 24 24\"\n",
              "       width=\"24px\">\n",
              "    <path d=\"M0 0h24v24H0V0z\" fill=\"none\"/>\n",
              "    <path d=\"M18.56 5.44l.94 2.06.94-2.06 2.06-.94-2.06-.94-.94-2.06-.94 2.06-2.06.94zm-11 1L8.5 8.5l.94-2.06 2.06-.94-2.06-.94L8.5 2.5l-.94 2.06-2.06.94zm10 10l.94 2.06.94-2.06 2.06-.94-2.06-.94-.94-2.06-.94 2.06-2.06.94z\"/><path d=\"M17.41 7.96l-1.37-1.37c-.4-.4-.92-.59-1.43-.59-.52 0-1.04.2-1.43.59L10.3 9.45l-7.72 7.72c-.78.78-.78 2.05 0 2.83L4 21.41c.39.39.9.59 1.41.59.51 0 1.02-.2 1.41-.59l7.78-7.78 2.81-2.81c.8-.78.8-2.07 0-2.86zM5.41 20L4 18.59l7.72-7.72 1.47 1.35L5.41 20z\"/>\n",
              "  </svg>\n",
              "      </button>\n",
              "      \n",
              "  <style>\n",
              "    .colab-df-container {\n",
              "      display:flex;\n",
              "      flex-wrap:wrap;\n",
              "      gap: 12px;\n",
              "    }\n",
              "\n",
              "    .colab-df-convert {\n",
              "      background-color: #E8F0FE;\n",
              "      border: none;\n",
              "      border-radius: 50%;\n",
              "      cursor: pointer;\n",
              "      display: none;\n",
              "      fill: #1967D2;\n",
              "      height: 32px;\n",
              "      padding: 0 0 0 0;\n",
              "      width: 32px;\n",
              "    }\n",
              "\n",
              "    .colab-df-convert:hover {\n",
              "      background-color: #E2EBFA;\n",
              "      box-shadow: 0px 1px 2px rgba(60, 64, 67, 0.3), 0px 1px 3px 1px rgba(60, 64, 67, 0.15);\n",
              "      fill: #174EA6;\n",
              "    }\n",
              "\n",
              "    [theme=dark] .colab-df-convert {\n",
              "      background-color: #3B4455;\n",
              "      fill: #D2E3FC;\n",
              "    }\n",
              "\n",
              "    [theme=dark] .colab-df-convert:hover {\n",
              "      background-color: #434B5C;\n",
              "      box-shadow: 0px 1px 3px 1px rgba(0, 0, 0, 0.15);\n",
              "      filter: drop-shadow(0px 1px 2px rgba(0, 0, 0, 0.3));\n",
              "      fill: #FFFFFF;\n",
              "    }\n",
              "  </style>\n",
              "\n",
              "      <script>\n",
              "        const buttonEl =\n",
              "          document.querySelector('#df-6a510f5d-0fae-460a-8aa0-9d456d6b4f44 button.colab-df-convert');\n",
              "        buttonEl.style.display =\n",
              "          google.colab.kernel.accessAllowed ? 'block' : 'none';\n",
              "\n",
              "        async function convertToInteractive(key) {\n",
              "          const element = document.querySelector('#df-6a510f5d-0fae-460a-8aa0-9d456d6b4f44');\n",
              "          const dataTable =\n",
              "            await google.colab.kernel.invokeFunction('convertToInteractive',\n",
              "                                                     [key], {});\n",
              "          if (!dataTable) return;\n",
              "\n",
              "          const docLinkHtml = 'Like what you see? Visit the ' +\n",
              "            '<a target=\"_blank\" href=https://colab.research.google.com/notebooks/data_table.ipynb>data table notebook</a>'\n",
              "            + ' to learn more about interactive tables.';\n",
              "          element.innerHTML = '';\n",
              "          dataTable['output_type'] = 'display_data';\n",
              "          await google.colab.output.renderOutput(dataTable, element);\n",
              "          const docLink = document.createElement('div');\n",
              "          docLink.innerHTML = docLinkHtml;\n",
              "          element.appendChild(docLink);\n",
              "        }\n",
              "      </script>\n",
              "    </div>\n",
              "  </div>\n",
              "  "
            ]
          },
          "metadata": {},
          "execution_count": 87
        }
      ]
    },
    {
      "cell_type": "markdown",
      "source": [
        "#### Evaluation Metric: Predictive Accuracy\n",
        "\n"
      ],
      "metadata": {
        "id": "A3C6co_fpd1G"
      }
    },
    {
      "cell_type": "code",
      "source": [
        "def score_accuracy(methods = []):\n",
        "  SCC = scc_reader()\n",
        "  acc_scores = {'Method': [], 'Accuracy': []}\n",
        "  for method in methods:\n",
        "    acc_score = SCC.predict_and_score(method = method)\n",
        "    display(Markdown('#### Method: {}'.format(method)))\n",
        "    print('Accuracy: {}'.format(acc_score))\n",
        "    acc_scores['Method'].append(method)\n",
        "    acc_scores['Accuracy'].append(acc_score)\n",
        "  return acc_scores"
      ],
      "metadata": {
        "id": "HAW9rE3f8RiP"
      },
      "execution_count": 159,
      "outputs": []
    },
    {
      "cell_type": "code",
      "source": [
        "methods = ['random', 'chooseA', 'unigram', 'bigram', 'bigram_backoff', 'trigram']"
      ],
      "metadata": {
        "id": "9XxJ6TYOB4LN"
      },
      "execution_count": 162,
      "outputs": []
    },
    {
      "cell_type": "code",
      "source": [
        "acc_scores = score_accuracy(methods = methods)"
      ],
      "metadata": {
        "colab": {
          "base_uri": "https://localhost:8080/",
          "height": 361
        },
        "id": "MKZphihs_CWO",
        "outputId": "61232e1f-3623-4826-a74a-d8a1b5bc3157"
      },
      "execution_count": 163,
      "outputs": [
        {
          "output_type": "display_data",
          "data": {
            "text/plain": [
              "<IPython.core.display.Markdown object>"
            ],
            "text/markdown": "#### Method: random"
          },
          "metadata": {}
        },
        {
          "output_type": "stream",
          "name": "stdout",
          "text": [
            "Accuracy: 0.18173076923076922\n"
          ]
        },
        {
          "output_type": "display_data",
          "data": {
            "text/plain": [
              "<IPython.core.display.Markdown object>"
            ],
            "text/markdown": "#### Method: chooseA"
          },
          "metadata": {}
        },
        {
          "output_type": "stream",
          "name": "stdout",
          "text": [
            "Accuracy: 0.19903846153846153\n"
          ]
        },
        {
          "output_type": "display_data",
          "data": {
            "text/plain": [
              "<IPython.core.display.Markdown object>"
            ],
            "text/markdown": "#### Method: unigram"
          },
          "metadata": {}
        },
        {
          "output_type": "stream",
          "name": "stdout",
          "text": [
            "Accuracy: 0.2567307692307692\n"
          ]
        },
        {
          "output_type": "display_data",
          "data": {
            "text/plain": [
              "<IPython.core.display.Markdown object>"
            ],
            "text/markdown": "#### Method: bigram"
          },
          "metadata": {}
        },
        {
          "output_type": "stream",
          "name": "stdout",
          "text": [
            "Accuracy: 0.19903846153846153\n"
          ]
        },
        {
          "output_type": "display_data",
          "data": {
            "text/plain": [
              "<IPython.core.display.Markdown object>"
            ],
            "text/markdown": "#### Method: bigram_backoff"
          },
          "metadata": {}
        },
        {
          "output_type": "stream",
          "name": "stdout",
          "text": [
            "Accuracy: 0.20673076923076922\n"
          ]
        },
        {
          "output_type": "display_data",
          "data": {
            "text/plain": [
              "<IPython.core.display.Markdown object>"
            ],
            "text/markdown": "#### Method: trigram"
          },
          "metadata": {}
        },
        {
          "output_type": "stream",
          "name": "stdout",
          "text": [
            "Accuracy: 0.19038461538461537\n"
          ]
        }
      ]
    },
    {
      "cell_type": "markdown",
      "source": [
        "**Plotting predictive accuracy for each N-gram model**"
      ],
      "metadata": {
        "id": "t_FyRCyDq7D9"
      }
    },
    {
      "cell_type": "code",
      "source": [
        "plt.figure(figsize = (10, 7))\n",
        "ax = sns.barplot(x = 'Method', y = 'Accuracy', data = acc_scores, palette = 'GnBu')\n",
        "for val in ax.patches:\n",
        "  ax.annotate(format(val.get_height(), '.4f'), (val.get_x() + val.get_width() / 2., \n",
        "                                                val.get_height()), \n",
        "    ha = 'center', va = 'center', xytext = (0, 9), textcoords = 'offset points')\n",
        "sns.set_style('whitegrid')\n",
        "ax.set_xlabel('Method')\n",
        "ax.set_ylabel('Accuracy')\n",
        "plt.xticks(rotation = 45)\n",
        "plt.title('Average Predictive Accuracy Scores for each N-Gram model')"
      ],
      "metadata": {
        "colab": {
          "base_uri": "https://localhost:8080/",
          "height": 527
        },
        "id": "UdaxgwAYXFim",
        "outputId": "e9a94b4f-284c-43fc-af99-eb35fdf5ecce"
      },
      "execution_count": 258,
      "outputs": [
        {
          "output_type": "execute_result",
          "data": {
            "text/plain": [
              "Text(0.5, 1.0, 'Average Predictive Accuracy Scores for each N-Gram model')"
            ]
          },
          "metadata": {},
          "execution_count": 258
        },
        {
          "output_type": "display_data",
          "data": {
            "text/plain": [
              "<Figure size 720x504 with 1 Axes>"
            ],
            "image/png": "[encoded data removed]"
          },
          "metadata": {}
        }
      ]
    },
    {
      "cell_type": "markdown",
      "source": [
        "**Plotting predictive accuracy for each N-gram model dependant on training data size** "
      ],
      "metadata": {
        "id": "kWB98Q4D_jkU"
      }
    },
    {
      "cell_type": "code",
      "source": [
        "def training_size(filesizes = (), methods = []):\n",
        "  size_scores = {'Unigram': {'Number of training files': [], 'Accuracy': []},\n",
        "                 'Bigram': {'Number of training files': [], 'Accuracy': []},\n",
        "                 'Trigram': {'Number of training files': [], 'Accuracy': []}}\n",
        "  for method in methods:\n",
        "    if method == 'unigram':\n",
        "      for size in filesizes:\n",
        "        mylm = language_model(files = trainingfiles[:size])\n",
        "        SCC = scc_reader()\n",
        "        acc_score = SCC.predict_and_score(method = method)\n",
        "        size_scores['Unigram']['Number of training files'].append(size)\n",
        "        size_scores['Unigram']['Accuracy'].append(acc_score)\n",
        "    if method == 'bigram':\n",
        "      for size in filesizes:\n",
        "        mylm = language_model(files = trainingfiles[:size])\n",
        "        SCC = scc_reader()\n",
        "        acc_score = SCC.predict_and_score(method = method)\n",
        "        size_scores['Bigram']['Number of training files'].append(size)\n",
        "        size_scores['Bigram']['Accuracy'].append(acc_score)\n",
        "    if method == 'trigram':\n",
        "      for size in filesizes:\n",
        "        mylm = language_model(files = trainingfiles[:size])\n",
        "        SCC = scc_reader()\n",
        "        acc_score = SCC.predict_and_score(method = method)\n",
        "        size_scores['Trigram']['Number of training files'].append(size)\n",
        "        size_scores['Trigram']['Accuracy'].append(acc_score)           \n",
        "  return size_scores"
      ],
      "metadata": {
        "id": "koPDqhILhvfC"
      },
      "execution_count": 181,
      "outputs": []
    },
    {
      "cell_type": "code",
      "source": [
        "filesizes = (1, 5, 10, 15) # this cell took 35 mins 45 secs to run\n",
        "methods = ('unigram' , 'bigram', 'trigram')\n",
        "small_size_scores = training_size(filesizes = filesizes, methods = methods)"
      ],
      "metadata": {
        "colab": {
          "base_uri": "https://localhost:8080/"
        },
        "id": "6XSxEE5KB_c0",
        "outputId": "05be2a1d-d26e-4060-e6d7-34a055945762"
      },
      "execution_count": 182,
      "outputs": [
        {
          "output_type": "stream",
          "name": "stderr",
          "text": [
            "\r  0%|          | 0/1 [00:00<?, ?it/s]"
          ]
        },
        {
          "output_type": "stream",
          "name": "stdout",
          "text": [
            "Processing 1ADAM10.TXT\n"
          ]
        },
        {
          "output_type": "stream",
          "name": "stderr",
          "text": [
            "100%|██████████| 1/1 [00:08<00:00,  8.84s/it]\n",
            "  0%|          | 0/5 [00:00<?, ?it/s]"
          ]
        },
        {
          "output_type": "stream",
          "name": "stdout",
          "text": [
            "Processing 1ADAM10.TXT\n"
          ]
        },
        {
          "output_type": "stream",
          "name": "stderr",
          "text": [
            "\r 20%|██        | 1/5 [00:14<00:56, 14.16s/it]"
          ]
        },
        {
          "output_type": "stream",
          "name": "stdout",
          "text": [
            "Processing 10EVM10.TXT\n"
          ]
        },
        {
          "output_type": "stream",
          "name": "stderr",
          "text": [
            "\r 40%|████      | 2/5 [00:48<01:17, 25.93s/it]"
          ]
        },
        {
          "output_type": "stream",
          "name": "stdout",
          "text": [
            "Processing TCNTR10.TXT\n"
          ]
        },
        {
          "output_type": "stream",
          "name": "stderr",
          "text": [
            "\r 60%|██████    | 3/5 [00:55<00:34, 17.14s/it]"
          ]
        },
        {
          "output_type": "stream",
          "name": "stdout",
          "text": [
            "Processing AGENT10.TXT\n"
          ]
        },
        {
          "output_type": "stream",
          "name": "stderr",
          "text": [
            "\r 80%|████████  | 4/5 [01:23<00:21, 21.80s/it]"
          ]
        },
        {
          "output_type": "stream",
          "name": "stdout",
          "text": [
            "Processing BBETC10.TXT\n"
          ]
        },
        {
          "output_type": "stream",
          "name": "stderr",
          "text": [
            "100%|██████████| 5/5 [01:52<00:00, 22.58s/it]\n",
            "  0%|          | 0/10 [00:00<?, ?it/s]"
          ]
        },
        {
          "output_type": "stream",
          "name": "stdout",
          "text": [
            "Processing 1ADAM10.TXT\n"
          ]
        },
        {
          "output_type": "stream",
          "name": "stderr",
          "text": [
            "\r 10%|█         | 1/10 [00:08<01:18,  8.77s/it]"
          ]
        },
        {
          "output_type": "stream",
          "name": "stdout",
          "text": [
            "Processing 10EVM10.TXT\n"
          ]
        },
        {
          "output_type": "stream",
          "name": "stderr",
          "text": [
            "\r 20%|██        | 2/10 [00:40<02:59, 22.47s/it]"
          ]
        },
        {
          "output_type": "stream",
          "name": "stdout",
          "text": [
            "Processing TCNTR10.TXT\n"
          ]
        },
        {
          "output_type": "stream",
          "name": "stderr",
          "text": [
            "\r 30%|███       | 3/10 [00:47<01:46, 15.25s/it]"
          ]
        },
        {
          "output_type": "stream",
          "name": "stdout",
          "text": [
            "Processing AGENT10.TXT\n"
          ]
        },
        {
          "output_type": "stream",
          "name": "stderr",
          "text": [
            "\r 40%|████      | 4/10 [01:11<01:51, 18.61s/it]"
          ]
        },
        {
          "output_type": "stream",
          "name": "stdout",
          "text": [
            "Processing BBETC10.TXT\n"
          ]
        },
        {
          "output_type": "stream",
          "name": "stderr",
          "text": [
            "\r 50%|█████     | 5/10 [01:34<01:40, 20.12s/it]"
          ]
        },
        {
          "output_type": "stream",
          "name": "stdout",
          "text": [
            "Processing HYDEA10.TXT\n"
          ]
        },
        {
          "output_type": "stream",
          "name": "stderr",
          "text": [
            "\r 60%|██████    | 6/10 [01:41<01:02, 15.67s/it]"
          ]
        },
        {
          "output_type": "stream",
          "name": "stdout",
          "text": [
            "Processing TDITW10.TXT\n"
          ]
        },
        {
          "output_type": "stream",
          "name": "stderr",
          "text": [
            "\r 70%|███████   | 7/10 [01:52<00:43, 14.38s/it]"
          ]
        },
        {
          "output_type": "stream",
          "name": "stdout",
          "text": [
            "Processing FLIRT10.TXT\n"
          ]
        },
        {
          "output_type": "stream",
          "name": "stderr",
          "text": [
            "\r 80%|████████  | 8/10 [02:13<00:32, 16.29s/it]"
          ]
        },
        {
          "output_type": "stream",
          "name": "stdout",
          "text": [
            "Processing 3DFRE10.TXT\n"
          ]
        },
        {
          "output_type": "stream",
          "name": "stderr",
          "text": [
            "\r 90%|█████████ | 9/10 [03:20<00:32, 32.19s/it]"
          ]
        },
        {
          "output_type": "stream",
          "name": "stdout",
          "text": [
            "Processing LSUSN10.TXT\n"
          ]
        },
        {
          "output_type": "stream",
          "name": "stderr",
          "text": [
            "100%|██████████| 10/10 [03:26<00:00, 20.65s/it]\n",
            "  0%|          | 0/15 [00:00<?, ?it/s]"
          ]
        },
        {
          "output_type": "stream",
          "name": "stdout",
          "text": [
            "Processing 1ADAM10.TXT\n"
          ]
        },
        {
          "output_type": "stream",
          "name": "stderr",
          "text": [
            "\r  7%|▋         | 1/15 [00:08<02:02,  8.78s/it]"
          ]
        },
        {
          "output_type": "stream",
          "name": "stdout",
          "text": [
            "Processing 10EVM10.TXT\n"
          ]
        },
        {
          "output_type": "stream",
          "name": "stderr",
          "text": [
            "\r 13%|█▎        | 2/15 [00:40<04:51, 22.42s/it]"
          ]
        },
        {
          "output_type": "stream",
          "name": "stdout",
          "text": [
            "Processing TCNTR10.TXT\n"
          ]
        },
        {
          "output_type": "stream",
          "name": "stderr",
          "text": [
            "\r 20%|██        | 3/15 [00:47<03:02, 15.23s/it]"
          ]
        },
        {
          "output_type": "stream",
          "name": "stdout",
          "text": [
            "Processing AGENT10.TXT\n"
          ]
        },
        {
          "output_type": "stream",
          "name": "stderr",
          "text": [
            "\r 27%|██▋       | 4/15 [01:11<03:23, 18.53s/it]"
          ]
        },
        {
          "output_type": "stream",
          "name": "stdout",
          "text": [
            "Processing BBETC10.TXT\n"
          ]
        },
        {
          "output_type": "stream",
          "name": "stderr",
          "text": [
            "\r 33%|███▎      | 5/15 [01:33<03:19, 19.96s/it]"
          ]
        },
        {
          "output_type": "stream",
          "name": "stdout",
          "text": [
            "Processing HYDEA10.TXT\n"
          ]
        },
        {
          "output_type": "stream",
          "name": "stderr",
          "text": [
            "\r 40%|████      | 6/15 [01:40<02:19, 15.52s/it]"
          ]
        },
        {
          "output_type": "stream",
          "name": "stdout",
          "text": [
            "Processing TDITW10.TXT\n"
          ]
        },
        {
          "output_type": "stream",
          "name": "stderr",
          "text": [
            "\r 47%|████▋     | 7/15 [01:51<01:53, 14.16s/it]"
          ]
        },
        {
          "output_type": "stream",
          "name": "stdout",
          "text": [
            "Processing FLIRT10.TXT\n"
          ]
        },
        {
          "output_type": "stream",
          "name": "stderr",
          "text": [
            "\r 53%|█████▎    | 8/15 [02:11<01:51, 15.99s/it]"
          ]
        },
        {
          "output_type": "stream",
          "name": "stdout",
          "text": [
            "Processing 3DFRE10.TXT\n"
          ]
        },
        {
          "output_type": "stream",
          "name": "stderr",
          "text": [
            "\r 60%|██████    | 9/15 [03:17<03:09, 31.54s/it]"
          ]
        },
        {
          "output_type": "stream",
          "name": "stdout",
          "text": [
            "Processing LSUSN10.TXT\n"
          ]
        },
        {
          "output_type": "stream",
          "name": "stderr",
          "text": [
            "\r 67%|██████▋   | 10/15 [03:23<01:58, 23.65s/it]"
          ]
        },
        {
          "output_type": "stream",
          "name": "stdout",
          "text": [
            "Processing PCLEV10.TXT\n"
          ]
        },
        {
          "output_type": "stream",
          "name": "stderr",
          "text": [
            "\r 73%|███████▎  | 11/15 [03:38<01:24, 21.06s/it]"
          ]
        },
        {
          "output_type": "stream",
          "name": "stdout",
          "text": [
            "Processing SAWYR10.TXT\n"
          ]
        },
        {
          "output_type": "stream",
          "name": "stderr",
          "text": [
            "\r 80%|████████  | 12/15 [03:58<01:02, 20.72s/it]"
          ]
        },
        {
          "output_type": "stream",
          "name": "stdout",
          "text": [
            "Processing TWILS10.TXT\n"
          ]
        },
        {
          "output_type": "stream",
          "name": "stderr",
          "text": [
            "\r 87%|████████▋ | 13/15 [04:08<00:35, 17.55s/it]"
          ]
        },
        {
          "output_type": "stream",
          "name": "stdout",
          "text": [
            "Processing DGOLD10.TXT\n"
          ]
        },
        {
          "output_type": "stream",
          "name": "stderr",
          "text": [
            "\r 93%|█████████▎| 14/15 [04:36<00:20, 20.63s/it]"
          ]
        },
        {
          "output_type": "stream",
          "name": "stdout",
          "text": [
            "Processing WELND10.TXT\n"
          ]
        },
        {
          "output_type": "stream",
          "name": "stderr",
          "text": [
            "100%|██████████| 15/15 [04:58<00:00, 19.89s/it]\n",
            "  0%|          | 0/1 [00:00<?, ?it/s]"
          ]
        },
        {
          "output_type": "stream",
          "name": "stdout",
          "text": [
            "Processing 1ADAM10.TXT\n"
          ]
        },
        {
          "output_type": "stream",
          "name": "stderr",
          "text": [
            "100%|██████████| 1/1 [00:08<00:00,  8.87s/it]\n",
            "  0%|          | 0/5 [00:00<?, ?it/s]"
          ]
        },
        {
          "output_type": "stream",
          "name": "stdout",
          "text": [
            "Processing 1ADAM10.TXT\n"
          ]
        },
        {
          "output_type": "stream",
          "name": "stderr",
          "text": [
            "\r 20%|██        | 1/5 [00:08<00:35,  8.78s/it]"
          ]
        },
        {
          "output_type": "stream",
          "name": "stdout",
          "text": [
            "Processing 10EVM10.TXT\n"
          ]
        },
        {
          "output_type": "stream",
          "name": "stderr",
          "text": [
            "\r 40%|████      | 2/5 [00:43<01:12, 24.09s/it]"
          ]
        },
        {
          "output_type": "stream",
          "name": "stdout",
          "text": [
            "Processing TCNTR10.TXT\n"
          ]
        },
        {
          "output_type": "stream",
          "name": "stderr",
          "text": [
            "\r 60%|██████    | 3/5 [00:50<00:32, 16.11s/it]"
          ]
        },
        {
          "output_type": "stream",
          "name": "stdout",
          "text": [
            "Processing AGENT10.TXT\n"
          ]
        },
        {
          "output_type": "stream",
          "name": "stderr",
          "text": [
            "\r 80%|████████  | 4/5 [01:21<00:22, 22.08s/it]"
          ]
        },
        {
          "output_type": "stream",
          "name": "stdout",
          "text": [
            "Processing BBETC10.TXT\n"
          ]
        },
        {
          "output_type": "stream",
          "name": "stderr",
          "text": [
            "100%|██████████| 5/5 [01:50<00:00, 22.16s/it]\n",
            "  0%|          | 0/10 [00:00<?, ?it/s]"
          ]
        },
        {
          "output_type": "stream",
          "name": "stdout",
          "text": [
            "Processing 1ADAM10.TXT\n"
          ]
        },
        {
          "output_type": "stream",
          "name": "stderr",
          "text": [
            "\r 10%|█         | 1/10 [00:08<01:18,  8.77s/it]"
          ]
        },
        {
          "output_type": "stream",
          "name": "stdout",
          "text": [
            "Processing 10EVM10.TXT\n"
          ]
        },
        {
          "output_type": "stream",
          "name": "stderr",
          "text": [
            "\r 20%|██        | 2/10 [00:43<03:11, 23.99s/it]"
          ]
        },
        {
          "output_type": "stream",
          "name": "stdout",
          "text": [
            "Processing TCNTR10.TXT\n"
          ]
        },
        {
          "output_type": "stream",
          "name": "stderr",
          "text": [
            "\r 30%|███       | 3/10 [00:55<02:10, 18.64s/it]"
          ]
        },
        {
          "output_type": "stream",
          "name": "stdout",
          "text": [
            "Processing AGENT10.TXT\n"
          ]
        },
        {
          "output_type": "stream",
          "name": "stderr",
          "text": [
            "\r 40%|████      | 4/10 [01:29<02:27, 24.52s/it]"
          ]
        },
        {
          "output_type": "stream",
          "name": "stdout",
          "text": [
            "Processing BBETC10.TXT\n"
          ]
        },
        {
          "output_type": "stream",
          "name": "stderr",
          "text": [
            "\r 50%|█████     | 5/10 [01:55<02:06, 25.29s/it]"
          ]
        },
        {
          "output_type": "stream",
          "name": "stdout",
          "text": [
            "Processing HYDEA10.TXT\n"
          ]
        },
        {
          "output_type": "stream",
          "name": "stderr",
          "text": [
            "\r 60%|██████    | 6/10 [02:02<01:16, 19.06s/it]"
          ]
        },
        {
          "output_type": "stream",
          "name": "stdout",
          "text": [
            "Processing TDITW10.TXT\n"
          ]
        },
        {
          "output_type": "stream",
          "name": "stderr",
          "text": [
            "\r 70%|███████   | 7/10 [02:16<00:51, 17.23s/it]"
          ]
        },
        {
          "output_type": "stream",
          "name": "stdout",
          "text": [
            "Processing FLIRT10.TXT\n"
          ]
        },
        {
          "output_type": "stream",
          "name": "stderr",
          "text": [
            "\r 80%|████████  | 8/10 [02:38<00:37, 18.74s/it]"
          ]
        },
        {
          "output_type": "stream",
          "name": "stdout",
          "text": [
            "Processing 3DFRE10.TXT\n"
          ]
        },
        {
          "output_type": "stream",
          "name": "stderr",
          "text": [
            "\r 90%|█████████ | 9/10 [04:17<00:43, 43.99s/it]"
          ]
        },
        {
          "output_type": "stream",
          "name": "stdout",
          "text": [
            "Processing LSUSN10.TXT\n"
          ]
        },
        {
          "output_type": "stream",
          "name": "stderr",
          "text": [
            "100%|██████████| 10/10 [04:24<00:00, 26.48s/it]\n",
            "  0%|          | 0/15 [00:00<?, ?it/s]"
          ]
        },
        {
          "output_type": "stream",
          "name": "stdout",
          "text": [
            "Processing 1ADAM10.TXT\n"
          ]
        },
        {
          "output_type": "stream",
          "name": "stderr",
          "text": [
            "\r  7%|▋         | 1/15 [00:10<02:33, 10.94s/it]"
          ]
        },
        {
          "output_type": "stream",
          "name": "stdout",
          "text": [
            "Processing 10EVM10.TXT\n"
          ]
        },
        {
          "output_type": "stream",
          "name": "stderr",
          "text": [
            "\r 13%|█▎        | 2/15 [00:48<05:46, 26.67s/it]"
          ]
        },
        {
          "output_type": "stream",
          "name": "stdout",
          "text": [
            "Processing TCNTR10.TXT\n"
          ]
        },
        {
          "output_type": "stream",
          "name": "stderr",
          "text": [
            "\r 20%|██        | 3/15 [00:55<03:30, 17.55s/it]"
          ]
        },
        {
          "output_type": "stream",
          "name": "stdout",
          "text": [
            "Processing AGENT10.TXT\n"
          ]
        },
        {
          "output_type": "stream",
          "name": "stderr",
          "text": [
            "\r 27%|██▋       | 4/15 [01:30<04:27, 24.32s/it]"
          ]
        },
        {
          "output_type": "stream",
          "name": "stdout",
          "text": [
            "Processing BBETC10.TXT\n"
          ]
        },
        {
          "output_type": "stream",
          "name": "stderr",
          "text": [
            "\r 33%|███▎      | 5/15 [02:02<04:31, 27.15s/it]"
          ]
        },
        {
          "output_type": "stream",
          "name": "stdout",
          "text": [
            "Processing HYDEA10.TXT\n"
          ]
        },
        {
          "output_type": "stream",
          "name": "stderr",
          "text": [
            "\r 40%|████      | 6/15 [02:11<03:09, 21.10s/it]"
          ]
        },
        {
          "output_type": "stream",
          "name": "stdout",
          "text": [
            "Processing TDITW10.TXT\n"
          ]
        },
        {
          "output_type": "stream",
          "name": "stderr",
          "text": [
            "\r 47%|████▋     | 7/15 [02:23<02:23, 17.95s/it]"
          ]
        },
        {
          "output_type": "stream",
          "name": "stdout",
          "text": [
            "Processing FLIRT10.TXT\n"
          ]
        },
        {
          "output_type": "stream",
          "name": "stderr",
          "text": [
            "\r 53%|█████▎    | 8/15 [02:42<02:10, 18.59s/it]"
          ]
        },
        {
          "output_type": "stream",
          "name": "stdout",
          "text": [
            "Processing 3DFRE10.TXT\n"
          ]
        },
        {
          "output_type": "stream",
          "name": "stderr",
          "text": [
            "\r 60%|██████    | 9/15 [04:02<03:46, 37.76s/it]"
          ]
        },
        {
          "output_type": "stream",
          "name": "stdout",
          "text": [
            "Processing LSUSN10.TXT\n"
          ]
        },
        {
          "output_type": "stream",
          "name": "stderr",
          "text": [
            "\r 67%|██████▋   | 10/15 [04:08<02:19, 27.97s/it]"
          ]
        },
        {
          "output_type": "stream",
          "name": "stdout",
          "text": [
            "Processing PCLEV10.TXT\n"
          ]
        },
        {
          "output_type": "stream",
          "name": "stderr",
          "text": [
            "\r 73%|███████▎  | 11/15 [04:24<01:36, 24.08s/it]"
          ]
        },
        {
          "output_type": "stream",
          "name": "stdout",
          "text": [
            "Processing SAWYR10.TXT\n"
          ]
        },
        {
          "output_type": "stream",
          "name": "stderr",
          "text": [
            "\r 80%|████████  | 12/15 [04:44<01:08, 22.86s/it]"
          ]
        },
        {
          "output_type": "stream",
          "name": "stdout",
          "text": [
            "Processing TWILS10.TXT\n"
          ]
        },
        {
          "output_type": "stream",
          "name": "stderr",
          "text": [
            "\r 87%|████████▋ | 13/15 [04:54<00:38, 19.05s/it]"
          ]
        },
        {
          "output_type": "stream",
          "name": "stdout",
          "text": [
            "Processing DGOLD10.TXT\n"
          ]
        },
        {
          "output_type": "stream",
          "name": "stderr",
          "text": [
            "\r 93%|█████████▎| 14/15 [05:22<00:21, 21.72s/it]"
          ]
        },
        {
          "output_type": "stream",
          "name": "stdout",
          "text": [
            "Processing WELND10.TXT\n"
          ]
        },
        {
          "output_type": "stream",
          "name": "stderr",
          "text": [
            "100%|██████████| 15/15 [05:43<00:00, 22.92s/it]\n",
            "  0%|          | 0/1 [00:00<?, ?it/s]"
          ]
        },
        {
          "output_type": "stream",
          "name": "stdout",
          "text": [
            "Processing 1ADAM10.TXT\n"
          ]
        },
        {
          "output_type": "stream",
          "name": "stderr",
          "text": [
            "100%|██████████| 1/1 [00:08<00:00,  8.82s/it]\n",
            "  0%|          | 0/5 [00:00<?, ?it/s]"
          ]
        },
        {
          "output_type": "stream",
          "name": "stdout",
          "text": [
            "Processing 1ADAM10.TXT\n"
          ]
        },
        {
          "output_type": "stream",
          "name": "stderr",
          "text": [
            "\r 20%|██        | 1/5 [00:08<00:35,  8.93s/it]"
          ]
        },
        {
          "output_type": "stream",
          "name": "stdout",
          "text": [
            "Processing 10EVM10.TXT\n"
          ]
        },
        {
          "output_type": "stream",
          "name": "stderr",
          "text": [
            "\r 40%|████      | 2/5 [00:41<01:08, 22.70s/it]"
          ]
        },
        {
          "output_type": "stream",
          "name": "stdout",
          "text": [
            "Processing TCNTR10.TXT\n"
          ]
        },
        {
          "output_type": "stream",
          "name": "stderr",
          "text": [
            "\r 60%|██████    | 3/5 [00:48<00:30, 15.41s/it]"
          ]
        },
        {
          "output_type": "stream",
          "name": "stdout",
          "text": [
            "Processing AGENT10.TXT\n"
          ]
        },
        {
          "output_type": "stream",
          "name": "stderr",
          "text": [
            "\r 80%|████████  | 4/5 [01:11<00:18, 18.60s/it]"
          ]
        },
        {
          "output_type": "stream",
          "name": "stdout",
          "text": [
            "Processing BBETC10.TXT\n"
          ]
        },
        {
          "output_type": "stream",
          "name": "stderr",
          "text": [
            "100%|██████████| 5/5 [01:34<00:00, 18.81s/it]\n",
            "  0%|          | 0/10 [00:00<?, ?it/s]"
          ]
        },
        {
          "output_type": "stream",
          "name": "stdout",
          "text": [
            "Processing 1ADAM10.TXT\n"
          ]
        },
        {
          "output_type": "stream",
          "name": "stderr",
          "text": [
            "\r 10%|█         | 1/10 [00:08<01:20,  8.99s/it]"
          ]
        },
        {
          "output_type": "stream",
          "name": "stdout",
          "text": [
            "Processing 10EVM10.TXT\n"
          ]
        },
        {
          "output_type": "stream",
          "name": "stderr",
          "text": [
            "\r 20%|██        | 2/10 [00:41<03:01, 22.72s/it]"
          ]
        },
        {
          "output_type": "stream",
          "name": "stdout",
          "text": [
            "Processing TCNTR10.TXT\n"
          ]
        },
        {
          "output_type": "stream",
          "name": "stderr",
          "text": [
            "\r 30%|███       | 3/10 [00:47<01:47, 15.38s/it]"
          ]
        },
        {
          "output_type": "stream",
          "name": "stdout",
          "text": [
            "Processing AGENT10.TXT\n"
          ]
        },
        {
          "output_type": "stream",
          "name": "stderr",
          "text": [
            "\r 40%|████      | 4/10 [01:11<01:51, 18.61s/it]"
          ]
        },
        {
          "output_type": "stream",
          "name": "stdout",
          "text": [
            "Processing BBETC10.TXT\n"
          ]
        },
        {
          "output_type": "stream",
          "name": "stderr",
          "text": [
            "\r 50%|█████     | 5/10 [01:34<01:40, 20.01s/it]"
          ]
        },
        {
          "output_type": "stream",
          "name": "stdout",
          "text": [
            "Processing HYDEA10.TXT\n"
          ]
        },
        {
          "output_type": "stream",
          "name": "stderr",
          "text": [
            "\r 60%|██████    | 6/10 [01:41<01:02, 15.59s/it]"
          ]
        },
        {
          "output_type": "stream",
          "name": "stdout",
          "text": [
            "Processing TDITW10.TXT\n"
          ]
        },
        {
          "output_type": "stream",
          "name": "stderr",
          "text": [
            "\r 70%|███████   | 7/10 [01:52<00:42, 14.24s/it]"
          ]
        },
        {
          "output_type": "stream",
          "name": "stdout",
          "text": [
            "Processing FLIRT10.TXT\n"
          ]
        },
        {
          "output_type": "stream",
          "name": "stderr",
          "text": [
            "\r 80%|████████  | 8/10 [02:12<00:32, 16.18s/it]"
          ]
        },
        {
          "output_type": "stream",
          "name": "stdout",
          "text": [
            "Processing 3DFRE10.TXT\n"
          ]
        },
        {
          "output_type": "stream",
          "name": "stderr",
          "text": [
            "\r 90%|█████████ | 9/10 [03:19<00:31, 31.89s/it]"
          ]
        },
        {
          "output_type": "stream",
          "name": "stdout",
          "text": [
            "Processing LSUSN10.TXT\n"
          ]
        },
        {
          "output_type": "stream",
          "name": "stderr",
          "text": [
            "100%|██████████| 10/10 [03:25<00:00, 20.53s/it]\n",
            "  0%|          | 0/15 [00:00<?, ?it/s]"
          ]
        },
        {
          "output_type": "stream",
          "name": "stdout",
          "text": [
            "Processing 1ADAM10.TXT\n"
          ]
        },
        {
          "output_type": "stream",
          "name": "stderr",
          "text": [
            "\r  7%|▋         | 1/15 [00:08<02:03,  8.83s/it]"
          ]
        },
        {
          "output_type": "stream",
          "name": "stdout",
          "text": [
            "Processing 10EVM10.TXT\n"
          ]
        },
        {
          "output_type": "stream",
          "name": "stderr",
          "text": [
            "\r 13%|█▎        | 2/15 [00:49<05:58, 27.60s/it]"
          ]
        },
        {
          "output_type": "stream",
          "name": "stdout",
          "text": [
            "Processing TCNTR10.TXT\n"
          ]
        },
        {
          "output_type": "stream",
          "name": "stderr",
          "text": [
            "\r 20%|██        | 3/15 [00:56<03:36, 18.05s/it]"
          ]
        },
        {
          "output_type": "stream",
          "name": "stdout",
          "text": [
            "Processing AGENT10.TXT\n"
          ]
        },
        {
          "output_type": "stream",
          "name": "stderr",
          "text": [
            "\r 27%|██▋       | 4/15 [01:19<03:42, 20.20s/it]"
          ]
        },
        {
          "output_type": "stream",
          "name": "stdout",
          "text": [
            "Processing BBETC10.TXT\n"
          ]
        },
        {
          "output_type": "stream",
          "name": "stderr",
          "text": [
            "\r 33%|███▎      | 5/15 [01:42<03:29, 21.00s/it]"
          ]
        },
        {
          "output_type": "stream",
          "name": "stdout",
          "text": [
            "Processing HYDEA10.TXT\n"
          ]
        },
        {
          "output_type": "stream",
          "name": "stderr",
          "text": [
            "\r 40%|████      | 6/15 [01:49<02:25, 16.20s/it]"
          ]
        },
        {
          "output_type": "stream",
          "name": "stdout",
          "text": [
            "Processing TDITW10.TXT\n"
          ]
        },
        {
          "output_type": "stream",
          "name": "stderr",
          "text": [
            "\r 47%|████▋     | 7/15 [02:00<01:57, 14.64s/it]"
          ]
        },
        {
          "output_type": "stream",
          "name": "stdout",
          "text": [
            "Processing FLIRT10.TXT\n"
          ]
        },
        {
          "output_type": "stream",
          "name": "stderr",
          "text": [
            "\r 53%|█████▎    | 8/15 [02:20<01:54, 16.34s/it]"
          ]
        },
        {
          "output_type": "stream",
          "name": "stdout",
          "text": [
            "Processing 3DFRE10.TXT\n"
          ]
        },
        {
          "output_type": "stream",
          "name": "stderr",
          "text": [
            "\r 60%|██████    | 9/15 [03:26<03:10, 31.82s/it]"
          ]
        },
        {
          "output_type": "stream",
          "name": "stdout",
          "text": [
            "Processing LSUSN10.TXT\n"
          ]
        },
        {
          "output_type": "stream",
          "name": "stderr",
          "text": [
            "\r 67%|██████▋   | 10/15 [03:32<01:59, 23.88s/it]"
          ]
        },
        {
          "output_type": "stream",
          "name": "stdout",
          "text": [
            "Processing PCLEV10.TXT\n"
          ]
        },
        {
          "output_type": "stream",
          "name": "stderr",
          "text": [
            "\r 73%|███████▎  | 11/15 [03:47<01:25, 21.29s/it]"
          ]
        },
        {
          "output_type": "stream",
          "name": "stdout",
          "text": [
            "Processing SAWYR10.TXT\n"
          ]
        },
        {
          "output_type": "stream",
          "name": "stderr",
          "text": [
            "\r 80%|████████  | 12/15 [04:07<01:02, 20.91s/it]"
          ]
        },
        {
          "output_type": "stream",
          "name": "stdout",
          "text": [
            "Processing TWILS10.TXT\n"
          ]
        },
        {
          "output_type": "stream",
          "name": "stderr",
          "text": [
            "\r 87%|████████▋ | 13/15 [04:18<00:35, 17.68s/it]"
          ]
        },
        {
          "output_type": "stream",
          "name": "stdout",
          "text": [
            "Processing DGOLD10.TXT\n"
          ]
        },
        {
          "output_type": "stream",
          "name": "stderr",
          "text": [
            "\r 93%|█████████▎| 14/15 [04:45<00:20, 20.75s/it]"
          ]
        },
        {
          "output_type": "stream",
          "name": "stdout",
          "text": [
            "Processing WELND10.TXT\n"
          ]
        },
        {
          "output_type": "stream",
          "name": "stderr",
          "text": [
            "100%|██████████| 15/15 [05:07<00:00, 20.49s/it]\n"
          ]
        }
      ]
    },
    {
      "cell_type": "code",
      "source": [
        "small_size_scores"
      ],
      "metadata": {
        "colab": {
          "base_uri": "https://localhost:8080/"
        },
        "id": "YAdhJez4rHTD",
        "outputId": "b9a0a82e-316c-408f-d6d8-55cd50a840ba"
      },
      "execution_count": 183,
      "outputs": [
        {
          "output_type": "execute_result",
          "data": {
            "text/plain": [
              "{'Bigram': {'Accuracy': [0.19038461538461537,\n",
              "   0.19038461538461537,\n",
              "   0.19326923076923078,\n",
              "   0.19423076923076923],\n",
              "  'Number of training files': [1, 5, 10, 15]},\n",
              " 'Trigram': {'Accuracy': [0.20384615384615384,\n",
              "   0.2048076923076923,\n",
              "   0.2076923076923077,\n",
              "   0.1971153846153846],\n",
              "  'Number of training files': [1, 5, 10, 15]},\n",
              " 'Unigram': {'Accuracy': [0.25961538461538464,\n",
              "   0.2586538461538462,\n",
              "   0.2548076923076923,\n",
              "   0.25769230769230766],\n",
              "  'Number of training files': [1, 5, 10, 15]}}"
            ]
          },
          "metadata": {},
          "execution_count": 183
        }
      ]
    },
    {
      "cell_type": "code",
      "source": [
        "uni_scores = pd.DataFrame.from_dict(small_size_scores['Unigram'])\n",
        "uni_scores = uni_scores.rename(columns = {'Number of training files': 'Number of training files', 'Accuracy': 'Unigram Accuracy'})"
      ],
      "metadata": {
        "id": "zCnG2AaJtE2l"
      },
      "execution_count": 230,
      "outputs": []
    },
    {
      "cell_type": "code",
      "source": [
        "bi_scores = pd.DataFrame.from_dict(small_size_scores['Bigram'])\n",
        "bi_scores = bi_scores.rename(columns = {'Number of training files': 'Number of training files U', 'Accuracy': 'Bigram Accuracy'})"
      ],
      "metadata": {
        "id": "vt3fOFATyU65"
      },
      "execution_count": 231,
      "outputs": []
    },
    {
      "cell_type": "code",
      "source": [
        "tri_scores = pd.DataFrame.from_dict(small_size_scores['Trigram'])\n",
        "tri_scores = tri_scores.rename(columns = {'Number of training files': 'Number of training files T', 'Accuracy': 'Trigram Accuracy'})"
      ],
      "metadata": {
        "id": "GzDeRt6jyU9A"
      },
      "execution_count": 232,
      "outputs": []
    },
    {
      "cell_type": "code",
      "source": [
        "scores = pd.concat([uni_scores, bi_scores, tri_scores], axis = 1)\n",
        "scores = scores.drop(['Number of training files U', 'Number of training files T'], axis = 1)\n",
        "scores"
      ],
      "metadata": {
        "colab": {
          "base_uri": "https://localhost:8080/",
          "height": 174
        },
        "id": "eVWH0OiuuZML",
        "outputId": "a2f4bafc-1188-4a6e-b342-0151eb94cb67"
      },
      "execution_count": 233,
      "outputs": [
        {
          "output_type": "execute_result",
          "data": {
            "text/plain": [
              "   Number of training files  Unigram Accuracy  Bigram Accuracy  \\\n",
              "0                         1          0.259615         0.190385   \n",
              "1                         5          0.258654         0.190385   \n",
              "2                        10          0.254808         0.193269   \n",
              "3                        15          0.257692         0.194231   \n",
              "\n",
              "   Trigram Accuracy  \n",
              "0          0.203846  \n",
              "1          0.204808  \n",
              "2          0.207692  \n",
              "3          0.197115  "
            ],
            "text/html": [
              "\n",
              "  <div id=\"df-00cf7021-21a8-4ef0-af36-60ced46d116e\">\n",
              "    <div class=\"colab-df-container\">\n",
              "      <div>\n",
              "<style scoped>\n",
              "    .dataframe tbody tr th:only-of-type {\n",
              "        vertical-align: middle;\n",
              "    }\n",
              "\n",
              "    .dataframe tbody tr th {\n",
              "        vertical-align: top;\n",
              "    }\n",
              "\n",
              "    .dataframe thead th {\n",
              "        text-align: right;\n",
              "    }\n",
              "</style>\n",
              "<table border=\"1\" class=\"dataframe\">\n",
              "  <thead>\n",
              "    <tr style=\"text-align: right;\">\n",
              "      <th></th>\n",
              "      <th>Number of training files</th>\n",
              "      <th>Unigram Accuracy</th>\n",
              "      <th>Bigram Accuracy</th>\n",
              "      <th>Trigram Accuracy</th>\n",
              "    </tr>\n",
              "  </thead>\n",
              "  <tbody>\n",
              "    <tr>\n",
              "      <th>0</th>\n",
              "      <td>1</td>\n",
              "      <td>0.259615</td>\n",
              "      <td>0.190385</td>\n",
              "      <td>0.203846</td>\n",
              "    </tr>\n",
              "    <tr>\n",
              "      <th>1</th>\n",
              "      <td>5</td>\n",
              "      <td>0.258654</td>\n",
              "      <td>0.190385</td>\n",
              "      <td>0.204808</td>\n",
              "    </tr>\n",
              "    <tr>\n",
              "      <th>2</th>\n",
              "      <td>10</td>\n",
              "      <td>0.254808</td>\n",
              "      <td>0.193269</td>\n",
              "      <td>0.207692</td>\n",
              "    </tr>\n",
              "    <tr>\n",
              "      <th>3</th>\n",
              "      <td>15</td>\n",
              "      <td>0.257692</td>\n",
              "      <td>0.194231</td>\n",
              "      <td>0.197115</td>\n",
              "    </tr>\n",
              "  </tbody>\n",
              "</table>\n",
              "</div>\n",
              "      <button class=\"colab-df-convert\" onclick=\"convertToInteractive('df-00cf7021-21a8-4ef0-af36-60ced46d116e')\"\n",
              "              title=\"Convert this dataframe to an interactive table.\"\n",
              "              style=\"display:none;\">\n",
              "        \n",
              "  <svg xmlns=\"http://www.w3.org/2000/svg\" height=\"24px\"viewBox=\"0 0 24 24\"\n",
              "       width=\"24px\">\n",
              "    <path d=\"M0 0h24v24H0V0z\" fill=\"none\"/>\n",
              "    <path d=\"M18.56 5.44l.94 2.06.94-2.06 2.06-.94-2.06-.94-.94-2.06-.94 2.06-2.06.94zm-11 1L8.5 8.5l.94-2.06 2.06-.94-2.06-.94L8.5 2.5l-.94 2.06-2.06.94zm10 10l.94 2.06.94-2.06 2.06-.94-2.06-.94-.94-2.06-.94 2.06-2.06.94z\"/><path d=\"M17.41 7.96l-1.37-1.37c-.4-.4-.92-.59-1.43-.59-.52 0-1.04.2-1.43.59L10.3 9.45l-7.72 7.72c-.78.78-.78 2.05 0 2.83L4 21.41c.39.39.9.59 1.41.59.51 0 1.02-.2 1.41-.59l7.78-7.78 2.81-2.81c.8-.78.8-2.07 0-2.86zM5.41 20L4 18.59l7.72-7.72 1.47 1.35L5.41 20z\"/>\n",
              "  </svg>\n",
              "      </button>\n",
              "      \n",
              "  <style>\n",
              "    .colab-df-container {\n",
              "      display:flex;\n",
              "      flex-wrap:wrap;\n",
              "      gap: 12px;\n",
              "    }\n",
              "\n",
              "    .colab-df-convert {\n",
              "      background-color: #E8F0FE;\n",
              "      border: none;\n",
              "      border-radius: 50%;\n",
              "      cursor: pointer;\n",
              "      display: none;\n",
              "      fill: #1967D2;\n",
              "      height: 32px;\n",
              "      padding: 0 0 0 0;\n",
              "      width: 32px;\n",
              "    }\n",
              "\n",
              "    .colab-df-convert:hover {\n",
              "      background-color: #E2EBFA;\n",
              "      box-shadow: 0px 1px 2px rgba(60, 64, 67, 0.3), 0px 1px 3px 1px rgba(60, 64, 67, 0.15);\n",
              "      fill: #174EA6;\n",
              "    }\n",
              "\n",
              "    [theme=dark] .colab-df-convert {\n",
              "      background-color: #3B4455;\n",
              "      fill: #D2E3FC;\n",
              "    }\n",
              "\n",
              "    [theme=dark] .colab-df-convert:hover {\n",
              "      background-color: #434B5C;\n",
              "      box-shadow: 0px 1px 3px 1px rgba(0, 0, 0, 0.15);\n",
              "      filter: drop-shadow(0px 1px 2px rgba(0, 0, 0, 0.3));\n",
              "      fill: #FFFFFF;\n",
              "    }\n",
              "  </style>\n",
              "\n",
              "      <script>\n",
              "        const buttonEl =\n",
              "          document.querySelector('#df-00cf7021-21a8-4ef0-af36-60ced46d116e button.colab-df-convert');\n",
              "        buttonEl.style.display =\n",
              "          google.colab.kernel.accessAllowed ? 'block' : 'none';\n",
              "\n",
              "        async function convertToInteractive(key) {\n",
              "          const element = document.querySelector('#df-00cf7021-21a8-4ef0-af36-60ced46d116e');\n",
              "          const dataTable =\n",
              "            await google.colab.kernel.invokeFunction('convertToInteractive',\n",
              "                                                     [key], {});\n",
              "          if (!dataTable) return;\n",
              "\n",
              "          const docLinkHtml = 'Like what you see? Visit the ' +\n",
              "            '<a target=\"_blank\" href=https://colab.research.google.com/notebooks/data_table.ipynb>data table notebook</a>'\n",
              "            + ' to learn more about interactive tables.';\n",
              "          element.innerHTML = '';\n",
              "          dataTable['output_type'] = 'display_data';\n",
              "          await google.colab.output.renderOutput(dataTable, element);\n",
              "          const docLink = document.createElement('div');\n",
              "          docLink.innerHTML = docLinkHtml;\n",
              "          element.appendChild(docLink);\n",
              "        }\n",
              "      </script>\n",
              "    </div>\n",
              "  </div>\n",
              "  "
            ]
          },
          "metadata": {},
          "execution_count": 233
        }
      ]
    },
    {
      "cell_type": "code",
      "source": [
        "fig, axs = plt.subplots(1, 3, figsize = (20, 6))\n",
        "axs[0].plot('Number of training files', 'Accuracy', data = small_size_scores['Unigram'], color = '#6ac2c9')\n",
        "axs[0].set_title('Unigram Model')\n",
        "axs[0].set_xlabel('Number of files used for training the model')\n",
        "axs[0].set_ylabel('Predictive Accuracy')\n",
        "axs[1].plot('Number of training files', 'Accuracy', data = small_size_scores['Bigram'], color = '#6ac2c9')\n",
        "axs[1].set_title('Bigram Model')\n",
        "axs[1].set_xlabel('Number of files used for training the model')\n",
        "axs[1].set_ylabel('Predictive Accuracy')\n",
        "axs[2].plot('Number of training files', 'Accuracy', data = small_size_scores['Trigram'], color = '#6ac2c9')\n",
        "axs[2].set_title('Trigram Model')\n",
        "axs[2].set_xlabel('Number of files used for training the model')\n",
        "axs[2].set_ylabel('Predictive Accuracy')\n",
        "sns.set_style('whitegrid')\n",
        "# ax.set_xlabel('Number of files used for training the model')\n",
        "# ax.set_ylabel('Predictive Accuracy')"
      ],
      "metadata": {
        "colab": {
          "base_uri": "https://localhost:8080/",
          "height": 312
        },
        "id": "pWEWQNr61LZW",
        "outputId": "fa3fa511-77ad-4e0e-a136-85842bc6238e"
      },
      "execution_count": 257,
      "outputs": [
        {
          "output_type": "display_data",
          "data": {
            "text/plain": [
              "<Figure size 1440x432 with 3 Axes>"
            ],
            "image/png": "[encoded data removed]"
          },
          "metadata": {}
        }
      ]
    },
    {
      "cell_type": "code",
      "source": [
        "plt.figure(figsize = (10, 7))\n",
        "ax = sns.lineplot(x = 'Number of training files', y = 'Accuracy', data = small_size_scores['Unigram'], color = '#3092c1')\n",
        "ax = sns.lineplot(x = 'Number of training files', y = 'Accuracy', data = small_size_scores['Bigram'], color = '#6ac2c9')\n",
        "ax = sns.lineplot(x = 'Number of training files', y = 'Accuracy', data = small_size_scores['Trigram'], color = '#aade86')  \n",
        "\n",
        "sns.set_style('whitegrid')\n",
        "ax.set_xlabel('Number of files used for training the model')\n",
        "ax.set_ylabel('Predictive Accuracy')\n",
        "plt.legend(['Unigram', 'Bigram', 'Trigram'], fontsize = 'large')\n",
        "plt.title('Predictive Accuracy scores for each model for differing training file size')"
      ],
      "metadata": {
        "colab": {
          "base_uri": "https://localhost:8080/",
          "height": 475
        },
        "id": "rLr4Sy-clZCu",
        "outputId": "7fee6521-75b0-4a2a-92e7-7e238ca62fea"
      },
      "execution_count": 192,
      "outputs": [
        {
          "output_type": "execute_result",
          "data": {
            "text/plain": [
              "Text(0.5, 1.0, 'Predictive Accuracy scores for each model for differing training file size')"
            ]
          },
          "metadata": {},
          "execution_count": 192
        },
        {
          "output_type": "display_data",
          "data": {
            "text/plain": [
              "<Figure size 720x504 with 1 Axes>"
            ],
            "image/png": "[encoded data removed]"
          },
          "metadata": {}
        }
      ]
    },
    {
      "cell_type": "code",
      "source": [
        "# FIX NESTED DICTIONARY APPENDS :((\n",
        "def run_ngram_model(filesizes = (), methods = []):\n",
        "  size_scores = {'Method': [], 'Results': {'Number of training files': [], 'Accuracy': []}}\n",
        "  for method in methods:\n",
        "    size_scores['Method'].append(method)\n",
        "    for size in filesizes:\n",
        "      mylm = language_model(files = trainingfiles[:size])\n",
        "      SCC = scc_reader()\n",
        "      acc_score = SCC.predict_and_score(method = method)\n",
        "      size_scores['Results']['Number of training files'].append(size)\n",
        "      size_scores['Results']['Accuracy'].append(acc_score)\n",
        "  return size_scores"
      ],
      "metadata": {
        "id": "OAjjK5gR_r-U"
      },
      "execution_count": 173,
      "outputs": []
    },
    {
      "cell_type": "code",
      "source": [
        "filesizes = (1, 5, 10, 50)\n",
        "methods = ('unigram', 'bigram', 'trigram')\n",
        "size_scores = run_ngram_model(filesizes = filesizes, methods = methods)"
      ],
      "metadata": {
        "id": "UGUizrUb_sA0"
      },
      "execution_count": null,
      "outputs": []
    },
    {
      "cell_type": "code",
      "source": [
        "size_scores"
      ],
      "metadata": {
        "colab": {
          "base_uri": "https://localhost:8080/"
        },
        "id": "9VhXZdVGgrtB",
        "outputId": "66fb39cd-ae42-4b0e-b053-35379fbbc579"
      },
      "execution_count": 178,
      "outputs": [
        {
          "output_type": "execute_result",
          "data": {
            "text/plain": [
              "{'Method': ['unigram', 'bigram', 'trigram'],\n",
              " 'Results': {'Accuracy': [0.2567307692307692,\n",
              "   0.2528846153846154,\n",
              "   0.25769230769230766,\n",
              "   0.2528846153846154,\n",
              "   0.19423076923076923,\n",
              "   0.19615384615384615,\n",
              "   0.1971153846153846,\n",
              "   0.1951923076923077,\n",
              "   0.20673076923076922,\n",
              "   0.20288461538461539,\n",
              "   0.2048076923076923,\n",
              "   0.18461538461538463],\n",
              "  'Number of training files': [1, 5, 10, 50, 1, 5, 10, 50, 1, 5, 10, 50]}}"
            ]
          },
          "metadata": {},
          "execution_count": 178
        }
      ]
    },
    {
      "cell_type": "markdown",
      "source": [
        "#### Evaluation Metric: Perplexity\n",
        "\n",
        "Perplexity is the normalised inverse probability of the test set. If a model assigns a high probability to the test set, it means that it is **not surprised** to see it (it's not *perplexed* by it), which means that it has a good understanding of how the language works. A lower perplexity indicates a better model.\n",
        "\n",
        "Given our set of test sentences, $W$, and the number of tokens in the test set $n$, perplexity can be calculated by:\n",
        "\n",
        "$$ PP(W) = \\frac{1}{P(w_{1}, w_{2}, ..., w_{n})^ \\frac{1}{n}} $$\n",
        "\n",
        "$$ PP(W) = n \\sqrt{\\frac{1}{P(w_{1}, w_{2}, ..., w_{n})}} $$"
      ],
      "metadata": {
        "id": "WilJelfGvhGU"
      }
    },
    {
      "cell_type": "code",
      "source": [
        ""
      ],
      "metadata": {
        "id": "v9occj0r_bjV"
      },
      "execution_count": null,
      "outputs": []
    },
    {
      "cell_type": "code",
      "source": [
        ""
      ],
      "metadata": {
        "id": "u-J3F3mfk_-9"
      },
      "execution_count": null,
      "outputs": []
    },
    {
      "cell_type": "markdown",
      "source": [
        "#### Evaluation Metric: Average Log Likelihood\n",
        "\n",
        "$$ P_{eval}(text) = \\prod \\limits _{word} P_{train}(word) $$\n",
        "\n",
        "$$ log(P_{eval}(text)) = \\sum \\limits _{word} log(P_{train}(word)) $$\n",
        "\n",
        "$$ Average Log Likelihood_{eval} = \\frac{\\sum \\limits _{word} log(P_{train}(word))}{N_{eval}} $$"
      ],
      "metadata": {
        "id": "ds3dWyapvjer"
      }
    },
    {
      "cell_type": "code",
      "source": [
        ""
      ],
      "metadata": {
        "id": "2HCCReOP_bRm"
      },
      "execution_count": null,
      "outputs": []
    },
    {
      "cell_type": "code",
      "source": [
        ""
      ],
      "metadata": {
        "id": "0KWtx5PN_bTs"
      },
      "execution_count": null,
      "outputs": []
    },
    {
      "cell_type": "markdown",
      "source": [
        "## Neural Language Model\n",
        "\n",
        "Using the Pytorch Library to build a Feed-Forward Neural Language Model"
      ],
      "metadata": {
        "id": "EcnVhtI0xXt5"
      }
    },
    {
      "cell_type": "code",
      "source": [
        "CONTEXT_SIZE = 2  # number of preceeding words to consider\n",
        "EMBEDDING_DIM = 10  # dimension of the embeddings\n",
        "MAX_FILES = 1"
      ],
      "metadata": {
        "id": "BF6LULPzvkrI"
      },
      "execution_count": 90,
      "outputs": []
    },
    {
      "cell_type": "code",
      "source": [
        "class NGramLanguageModeler(nn.Module):\n",
        "  def __init__(self, vocab_size, embedding_dim = EMBEDDING_DIM, \n",
        "               context_size = CONTEXT_SIZE):\n",
        "    super(NGramLanguageModeler, self).__init__()\n",
        "    self.embedding_dim = embedding_dim\n",
        "    self.context_size = context_size\n",
        "    self.hidden_size = 128\n",
        "    self.threshold = 20\n",
        "\n",
        "  def initialise(self):\n",
        "    self.embeddings = nn.Embedding(self.vocab_size, self.embedding_dim)\n",
        "    self.linear1 = nn.Linear(self.context_size * self.embedding_dim, self.hidden_size)\n",
        "    self.linear2 = nn.Linear(self.hidden_size, self.vocab_size)\n",
        "\n",
        "  def forward(self, inputs):\n",
        "    embeds = self.embeddings(inputs).view((1, -1))\n",
        "    out = F.relu(self.linear1(embeds))\n",
        "    out = self.linear2(out)\n",
        "    log_probs = F.log_softmax(out, dim=1)\n",
        "    return log_probs\n",
        "\n",
        "  def get_logprob(self, context, target):\n",
        "    #return the logprob of the target word given the context\n",
        "    context_idxs = torch.tensor([self.word_to_ix[w] for w in context], dtype = torch.long)\n",
        "    log_probs = self.forward(context_idxs)\n",
        "    target_idx = torch.tensor(self.word_to_ix[target], dtype = torch.long)\n",
        "    return log_probs.index_select(1, target_idx).item()\n",
        "          \n",
        "  def nextlikely(self, context):\n",
        "    #sample the distribution of target words given the context\n",
        "    context_idxs = torch.tensor([self.word_to_ix[w] for w in context], dtype = torch.long)\n",
        "    log_probs = self.forward(context_idxs)\n",
        "    probs = [math.exp(x) for x in log_probs.flatten().tolist()]\n",
        "    t = random.choices(list(range(len(probs))), weights = probs, k = 1)\n",
        "    return self.ix_to_word[t[0]]\n",
        "  \n",
        "  def generate(self, limit = 20):\n",
        "    #generate a sequence of tokens according to the model\n",
        "    tokens = ['</s>', '<s>']\n",
        "    while tokens[-1] != '</s>' and len(tokens) < limit:\n",
        "      current = self.nextlikely(tokens[-2:])\n",
        "      tokens.append(current)\n",
        "    return ' '.join(tokens[2:-1])\n",
        "\n",
        "  def train(self, inputngrams, loss_function = nn.NLLLoss(), lr = 0.001, epochs = 10):\n",
        "    optimizer = optim.SGD(self.parameters(), lr = lr)\n",
        "    losses = []\n",
        "    for epoch in tqdm(range(epochs)):\n",
        "      total_loss = 0\n",
        "      for context, target in inputngrams:\n",
        "        # Step 1. Prepare the inputs to be passed to the model (i.e, turn the words\n",
        "        # into integer indices and wrap them in tensors)\n",
        "        context_idxs = torch.tensor([self.word_to_ix[w] for w in context], dtype = torch.long)\n",
        "\n",
        "        # Step 2. Recall that torch *accumulates* gradients. Before passing in a\n",
        "        # new instance, you need to zero out the gradients from the old\n",
        "        # instance\n",
        "        self.zero_grad()\n",
        "\n",
        "        # Step 3. Run the forward pass, getting log probabilities over next\n",
        "        # words\n",
        "        log_probs = self.forward(context_idxs)\n",
        "\n",
        "        # Step 4. Compute your loss function. (Again, Torch wants the target\n",
        "        # word wrapped in a tensor)\n",
        "        loss = loss_function(log_probs, torch.tensor([self.word_to_ix[target]], dtype = torch.long))\n",
        "\n",
        "        # Step 5. Do the backward pass and update the gradient\n",
        "        loss.backward()\n",
        "        optimizer.step()\n",
        "          \n",
        "        # Get the Python number from a 1-element Tensor by calling tensor.item()\n",
        "        total_loss += loss.item()\n",
        "      losses.append(total_loss)\n",
        "    print(losses)\n",
        "\n",
        "  def train_from_corpus(self, training_dir = TRAINING_DIR, files = []):\n",
        "    alltokens = ['</s>']\n",
        "    #reading corpus and tokenize\n",
        "    for afile in files:\n",
        "      print('Reading {}'.format(afile))\n",
        "      try:\n",
        "        with open(os.path.join(training_dir, afile)) as instream:\n",
        "          for line in instream:\n",
        "            line = line.rstrip()\n",
        "            if len(line) > 0:\n",
        "              tokens = ['<s>'] + tokenize(line) + ['</s>']\n",
        "              alltokens += tokens\n",
        "      except UnicodeDecodeError:\n",
        "        print('UnicodeDecodeError reading {}: ignoring file'.format(afile))\n",
        "    \n",
        "    #get the vocab and build the indexes\n",
        "    self.vocab = {}\n",
        "    for token in alltokens:\n",
        "      self.vocab[token] = self.vocab.get(token, 0) + 1\n",
        "\n",
        "    #delete unknown words from the vocab\n",
        "    unknowns = 0\n",
        "    for key, value in list(self.vocab.items()):\n",
        "      if value < self.threshold:\n",
        "        unknowns += value\n",
        "        self.vocab.pop(key, None)\n",
        "    self.vocab['<unk>'] = unknowns\n",
        "\n",
        "    self.word_to_ix = {word: i for i, word in enumerate(list(self.vocab.keys()))}\n",
        "    self.ix_to_word = {i: word for i, word in enumerate(list(self.vocab.keys()))}\n",
        "    \n",
        "    #MUST SET THE VOCAB SIZE and INITIALISE THE NN\n",
        "    self.vocab_size = len(self.vocab) \n",
        "    print('Vocabulary size is {}'.format(self.vocab_size))\n",
        "    self.initialise()\n",
        "\n",
        "    #replace the unknown tokens\n",
        "    filteredtokens = []\n",
        "    for token in alltokens:\n",
        "      if token in self.vocab.keys():\n",
        "        filteredtokens.append(token)\n",
        "      else:\n",
        "        filteredtokens.append('<unk>')\n",
        "    \n",
        "    #convert to trigrams\n",
        "    trigrams = [([filteredtokens[i], filteredtokens[i + 1]], filteredtokens[i + 2])\n",
        "      for i in range(len(filteredtokens) - 2)]\n",
        "    \n",
        "    print('Starting training')\n",
        "    #train using the trigrams\n",
        "    self.train(trigrams)"
      ],
      "metadata": {
        "id": "sHvVWRDBxXRJ"
      },
      "execution_count": 99,
      "outputs": []
    },
    {
      "cell_type": "code",
      "source": [
        "nn_model = NGramLanguageModeler(EMBEDDING_DIM, CONTEXT_SIZE)\n",
        "nn_model.train_from_corpus(files = trainingfiles[:MAX_FILES])"
      ],
      "metadata": {
        "colab": {
          "base_uri": "https://localhost:8080/"
        },
        "id": "n6jyWbfexXTZ",
        "outputId": "d47fe011-f2d2-41cc-daa1-e572751c0f21"
      },
      "execution_count": 100,
      "outputs": [
        {
          "output_type": "stream",
          "name": "stdout",
          "text": [
            "[325.05508399009705, 323.04392743110657, 321.05185317993164, 319.0786497592926, 317.12340021133423, 315.1858367919922, 313.2658715248108, 311.36226296424866, 309.47515392303467, 307.6039571762085]\n"
          ]
        }
      ]
    },
    {
      "cell_type": "code",
      "source": [
        "nn_model.generate()"
      ],
      "metadata": {
        "colab": {
          "base_uri": "https://localhost:8080/",
          "height": 35
        },
        "id": "mGspPk3_xXVh",
        "outputId": "df98bb15-92d8-4677-ecfd-6f90a0cad75a"
      },
      "execution_count": 101,
      "outputs": [
        {
          "output_type": "execute_result",
          "data": {
            "text/plain": [
              "\"gazed gazed weed deep To . where where eyes To 's small deep gazed all-eating And lusty\""
            ],
            "application/vnd.google.colaboratory.intrinsic+json": {
              "type": "string"
            }
          },
          "metadata": {},
          "execution_count": 101
        }
      ]
    },
    {
      "cell_type": "code",
      "source": [
        ""
      ],
      "metadata": {
        "id": "-nfp_pobxXXa"
      },
      "execution_count": null,
      "outputs": []
    }
  ]
}